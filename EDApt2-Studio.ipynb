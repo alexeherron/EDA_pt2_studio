{
 "cells": [
  {
   "cell_type": "markdown",
   "id": "2f470e67-1623-4416-b9c2-8367f7834a26",
   "metadata": {},
   "source": [
    "# EDA part 2 Studio\n",
    "\n",
    "## Further Analysis of IMDB movies\n",
    "\n",
    "In this studio, we're returning to this [tutorial](https://towardsdatascience.com/understand-the-data-with-univariate-and-multivariate-charts-and-plots-in-python-3b9fcd68cd8) as a reference guide for our EDA.\n",
    "You've seen the data set before and you've worked through similar kinds of questions with the heart disease dataset. \n",
    "\n",
    "Blocks have been created for your code and we've asked you to add more in some places.\n",
    "\n",
    "The dataset from [Kaggle](https://www.kaggle.com/PromptCloudHQ/imdb-data)"
   ]
  },
  {
   "cell_type": "markdown",
   "id": "34632281-1e15-44b1-a3e3-b82ddacb5cbd",
   "metadata": {},
   "source": [
    "### 1. Find the relative proportions of movie genres represented."
   ]
  },
  {
   "cell_type": "code",
   "execution_count": 1,
   "id": "070ebed9-c948-4821-9a24-67f0e3fe8fce",
   "metadata": {},
   "outputs": [
    {
     "data": {
      "text/html": [
       "<div>\n",
       "<style scoped>\n",
       "    .dataframe tbody tr th:only-of-type {\n",
       "        vertical-align: middle;\n",
       "    }\n",
       "\n",
       "    .dataframe tbody tr th {\n",
       "        vertical-align: top;\n",
       "    }\n",
       "\n",
       "    .dataframe thead th {\n",
       "        text-align: right;\n",
       "    }\n",
       "</style>\n",
       "<table border=\"1\" class=\"dataframe\">\n",
       "  <thead>\n",
       "    <tr style=\"text-align: right;\">\n",
       "      <th></th>\n",
       "      <th>Rank</th>\n",
       "      <th>Title</th>\n",
       "      <th>Genre</th>\n",
       "      <th>Description</th>\n",
       "      <th>Director</th>\n",
       "      <th>Actors</th>\n",
       "      <th>Year</th>\n",
       "      <th>Runtime (Minutes)</th>\n",
       "      <th>Rating</th>\n",
       "      <th>Votes</th>\n",
       "      <th>Revenue (Millions)</th>\n",
       "      <th>Metascore</th>\n",
       "    </tr>\n",
       "  </thead>\n",
       "  <tbody>\n",
       "    <tr>\n",
       "      <th>0</th>\n",
       "      <td>1</td>\n",
       "      <td>Guardians of the Galaxy</td>\n",
       "      <td>Action,Adventure,Sci-Fi</td>\n",
       "      <td>A group of intergalactic criminals are forced ...</td>\n",
       "      <td>James Gunn</td>\n",
       "      <td>Chris Pratt, Vin Diesel, Bradley Cooper, Zoe S...</td>\n",
       "      <td>2014</td>\n",
       "      <td>121</td>\n",
       "      <td>8.1</td>\n",
       "      <td>757074</td>\n",
       "      <td>333.13</td>\n",
       "      <td>76.0</td>\n",
       "    </tr>\n",
       "    <tr>\n",
       "      <th>1</th>\n",
       "      <td>2</td>\n",
       "      <td>Prometheus</td>\n",
       "      <td>Adventure,Mystery,Sci-Fi</td>\n",
       "      <td>Following clues to the origin of mankind, a te...</td>\n",
       "      <td>Ridley Scott</td>\n",
       "      <td>Noomi Rapace, Logan Marshall-Green, Michael Fa...</td>\n",
       "      <td>2012</td>\n",
       "      <td>124</td>\n",
       "      <td>7.0</td>\n",
       "      <td>485820</td>\n",
       "      <td>126.46</td>\n",
       "      <td>65.0</td>\n",
       "    </tr>\n",
       "    <tr>\n",
       "      <th>2</th>\n",
       "      <td>3</td>\n",
       "      <td>Split</td>\n",
       "      <td>Horror,Thriller</td>\n",
       "      <td>Three girls are kidnapped by a man with a diag...</td>\n",
       "      <td>M. Night Shyamalan</td>\n",
       "      <td>James McAvoy, Anya Taylor-Joy, Haley Lu Richar...</td>\n",
       "      <td>2016</td>\n",
       "      <td>117</td>\n",
       "      <td>7.3</td>\n",
       "      <td>157606</td>\n",
       "      <td>138.12</td>\n",
       "      <td>62.0</td>\n",
       "    </tr>\n",
       "    <tr>\n",
       "      <th>3</th>\n",
       "      <td>4</td>\n",
       "      <td>Sing</td>\n",
       "      <td>Animation,Comedy,Family</td>\n",
       "      <td>In a city of humanoid animals, a hustling thea...</td>\n",
       "      <td>Christophe Lourdelet</td>\n",
       "      <td>Matthew McConaughey,Reese Witherspoon, Seth Ma...</td>\n",
       "      <td>2016</td>\n",
       "      <td>108</td>\n",
       "      <td>7.2</td>\n",
       "      <td>60545</td>\n",
       "      <td>270.32</td>\n",
       "      <td>59.0</td>\n",
       "    </tr>\n",
       "    <tr>\n",
       "      <th>4</th>\n",
       "      <td>5</td>\n",
       "      <td>Suicide Squad</td>\n",
       "      <td>Action,Adventure,Fantasy</td>\n",
       "      <td>A secret government agency recruits some of th...</td>\n",
       "      <td>David Ayer</td>\n",
       "      <td>Will Smith, Jared Leto, Margot Robbie, Viola D...</td>\n",
       "      <td>2016</td>\n",
       "      <td>123</td>\n",
       "      <td>6.2</td>\n",
       "      <td>393727</td>\n",
       "      <td>325.02</td>\n",
       "      <td>40.0</td>\n",
       "    </tr>\n",
       "  </tbody>\n",
       "</table>\n",
       "</div>"
      ],
      "text/plain": [
       "   Rank                    Title                     Genre  \\\n",
       "0     1  Guardians of the Galaxy   Action,Adventure,Sci-Fi   \n",
       "1     2               Prometheus  Adventure,Mystery,Sci-Fi   \n",
       "2     3                    Split           Horror,Thriller   \n",
       "3     4                     Sing   Animation,Comedy,Family   \n",
       "4     5            Suicide Squad  Action,Adventure,Fantasy   \n",
       "\n",
       "                                         Description              Director  \\\n",
       "0  A group of intergalactic criminals are forced ...            James Gunn   \n",
       "1  Following clues to the origin of mankind, a te...          Ridley Scott   \n",
       "2  Three girls are kidnapped by a man with a diag...    M. Night Shyamalan   \n",
       "3  In a city of humanoid animals, a hustling thea...  Christophe Lourdelet   \n",
       "4  A secret government agency recruits some of th...            David Ayer   \n",
       "\n",
       "                                              Actors  Year  Runtime (Minutes)  \\\n",
       "0  Chris Pratt, Vin Diesel, Bradley Cooper, Zoe S...  2014                121   \n",
       "1  Noomi Rapace, Logan Marshall-Green, Michael Fa...  2012                124   \n",
       "2  James McAvoy, Anya Taylor-Joy, Haley Lu Richar...  2016                117   \n",
       "3  Matthew McConaughey,Reese Witherspoon, Seth Ma...  2016                108   \n",
       "4  Will Smith, Jared Leto, Margot Robbie, Viola D...  2016                123   \n",
       "\n",
       "   Rating   Votes  Revenue (Millions)  Metascore  \n",
       "0     8.1  757074              333.13       76.0  \n",
       "1     7.0  485820              126.46       65.0  \n",
       "2     7.3  157606              138.12       62.0  \n",
       "3     7.2   60545              270.32       59.0  \n",
       "4     6.2  393727              325.02       40.0  "
      ]
     },
     "execution_count": 1,
     "metadata": {},
     "output_type": "execute_result"
    }
   ],
   "source": [
    "# import dependencies \n",
    "import pandas as pd\n",
    "import matplotlib.pyplot as plt\n",
    "import seaborn as sns\n",
    "import numpy as np\n",
    "\n",
    "# create your data variabe using .read_csv \n",
    "df = pd.read_csv('IMDB-Movie-Data.csv')\n",
    "\n",
    "# get reaquainted with the data by viewing the first 5 rows\n",
    "df.head()"
   ]
  },
  {
   "cell_type": "code",
   "execution_count": 2,
   "id": "e8f7f6c5",
   "metadata": {},
   "outputs": [
    {
     "data": {
      "text/plain": [
       "Index(['Rank', 'Title', 'Genre', 'Description', 'Director', 'Actors', 'Year',\n",
       "       'Runtime (Minutes)', 'Rating', 'Votes', 'Revenue (Millions)',\n",
       "       'Metascore'],\n",
       "      dtype='object')"
      ]
     },
     "execution_count": 2,
     "metadata": {},
     "output_type": "execute_result"
    }
   ],
   "source": [
    "# list the column names\n",
    "df.columns"
   ]
  },
  {
   "cell_type": "code",
   "execution_count": 3,
   "id": "dfd297f7",
   "metadata": {},
   "outputs": [
    {
     "name": "stdout",
     "output_type": "stream",
     "text": [
      "count                        1000\n",
      "unique                        207\n",
      "top       Action,Adventure,Sci-Fi\n",
      "freq                           50\n",
      "Name: Genre, dtype: object\n"
     ]
    }
   ],
   "source": [
    "# preview the contents of the 'Genre' column only\n",
    "print(df['Genre'].describe())"
   ]
  },
  {
   "cell_type": "code",
   "execution_count": 4,
   "id": "7f3d90fd",
   "metadata": {},
   "outputs": [
    {
     "data": {
      "text/plain": [
       "array(['Action,Adventure,Sci-Fi', 'Adventure,Mystery,Sci-Fi',\n",
       "       'Horror,Thriller', 'Animation,Comedy,Family',\n",
       "       'Action,Adventure,Fantasy', 'Comedy,Drama,Music', 'Comedy',\n",
       "       'Action,Adventure,Biography', 'Adventure,Drama,Romance',\n",
       "       'Adventure,Family,Fantasy', 'Biography,Drama,History',\n",
       "       'Animation,Adventure,Comedy', 'Action,Comedy,Drama',\n",
       "       'Action,Thriller', 'Biography,Drama', 'Drama,Mystery,Sci-Fi',\n",
       "       'Adventure,Drama,Thriller', 'Drama', 'Crime,Drama,Horror',\n",
       "       'Action,Adventure,Drama', 'Drama,Thriller',\n",
       "       'Action,Adventure,Comedy', 'Action,Horror,Sci-Fi',\n",
       "       'Adventure,Drama,Sci-Fi', 'Action,Adventure,Western',\n",
       "       'Comedy,Drama', 'Horror', 'Adventure,Drama,Fantasy',\n",
       "       'Action,Crime,Thriller', 'Action,Crime,Drama',\n",
       "       'Adventure,Drama,History', 'Crime,Horror,Thriller',\n",
       "       'Drama,Romance', 'Comedy,Drama,Romance', 'Horror,Mystery,Thriller',\n",
       "       'Crime,Drama,Mystery', 'Drama,Romance,Thriller',\n",
       "       'Drama,History,Thriller', 'Action,Drama,Thriller', 'Drama,History',\n",
       "       'Action,Drama,Romance', 'Drama,Fantasy', 'Action,Sci-Fi',\n",
       "       'Adventure,Drama,War', 'Action,Comedy,Fantasy',\n",
       "       'Biography,Comedy,Crime', 'Crime,Drama', 'Comedy,Crime,Drama',\n",
       "       'Action,Comedy,Crime', 'Animation,Drama,Fantasy',\n",
       "       'Horror,Mystery,Sci-Fi', 'Drama,Mystery,Thriller',\n",
       "       'Crime,Drama,Thriller', 'Biography,Crime,Drama',\n",
       "       'Crime,Mystery,Thriller', 'Action,Horror,Thriller',\n",
       "       'Romance,Sci-Fi', 'Action,Fantasy,War', 'Action,Biography,Drama',\n",
       "       'Drama,Horror,Mystery', 'Adventure,Drama,Family',\n",
       "       'Adventure,Comedy,Romance', 'Action', 'Adventure,Crime,Mystery',\n",
       "       'Comedy,Family,Musical', 'Adventure,Comedy,Drama',\n",
       "       'Drama,Horror,Thriller', 'Drama,Music', 'Mystery,Thriller',\n",
       "       'Mystery,Thriller,Western', 'Comedy,Family',\n",
       "       'Biography,Comedy,Drama', 'Drama,Western', 'Drama,Mystery,Romance',\n",
       "       'Action,Drama,Mystery', 'Action,Adventure,Crime',\n",
       "       'Adventure,Sci-Fi,Thriller', 'Action,Comedy,Mystery',\n",
       "       'Thriller,War', 'Action,Adventure,Thriller',\n",
       "       'Drama,Fantasy,Romance', 'Action,Drama,History',\n",
       "       'Animation,Adventure,Family', 'Adventure,Horror',\n",
       "       'Drama,Romance,Sci-Fi', 'Action,Adventure,Family', 'Action,Comedy',\n",
       "       'Comedy,Romance', 'Horror,Mystery', 'Drama,Family,Fantasy',\n",
       "       'Sci-Fi', 'Drama,War', 'Drama,Fantasy,Horror',\n",
       "       'Crime,Drama,History', 'Horror,Sci-Fi,Thriller',\n",
       "       'Action,Drama,Sport', 'Adventure,Biography,Drama',\n",
       "       'Biography,Drama,Thriller', 'Action,Adventure,Mystery',\n",
       "       'Drama,Horror', 'Comedy,Crime', 'Drama,Fantasy,War',\n",
       "       'Action,Adventure,Romance', 'Action,Drama,War',\n",
       "       'Drama,Musical,Romance', 'Drama,Sci-Fi,Thriller',\n",
       "       'Action,Drama,Sci-Fi', 'Drama,Sci-Fi', 'Adventure,Fantasy',\n",
       "       'Thriller', 'Biography,Drama,Romance', 'Action,Adventure',\n",
       "       'Action,Fantasy', 'Action,Drama,Horror', 'Comedy,Music,Romance',\n",
       "       'Biography,Drama,Sport', 'Action,Horror', 'Comedy,Horror,Thriller',\n",
       "       'Crime,Drama,Music', 'Action,Sci-Fi,Thriller',\n",
       "       'Drama,Horror,Sci-Fi', 'Drama,Sport', 'Comedy,Horror',\n",
       "       'Comedy,Fantasy,Romance', 'Comedy,Fantasy', 'Comedy,Drama,Fantasy',\n",
       "       'Adventure,Comedy,Horror', 'Comedy,Mystery',\n",
       "       'Action,Mystery,Sci-Fi', 'Action,Crime,Fantasy',\n",
       "       'Comedy,Fantasy,Horror', 'Animation,Action,Adventure',\n",
       "       'Action,Comedy,Family', 'Comedy,Sci-Fi', 'Action,Biography,Crime',\n",
       "       'Adventure,Comedy', 'Comedy,Music', 'Comedy,Drama,Horror',\n",
       "       'Action,Horror,Romance', 'Action,Drama,Fantasy',\n",
       "       'Action,Mystery,Thriller', 'Action,Adventure,Horror',\n",
       "       'Animation,Family,Fantasy', 'Adventure,Horror,Mystery',\n",
       "       'Action,Horror,Mystery', 'Adventure,Comedy,Family',\n",
       "       'Action,Crime,Mystery', 'Comedy,Drama,Family',\n",
       "       'Action,Crime,Sport', 'Mystery,Sci-Fi,Thriller', 'Sci-Fi,Thriller',\n",
       "       'Adventure,Drama,Horror', 'Biography,History,Thriller',\n",
       "       'Adventure,Comedy,Sci-Fi', 'Fantasy,Horror',\n",
       "       'Action,Fantasy,Thriller', 'Comedy,Romance,Sport',\n",
       "       'Animation,Action,Comedy', 'Drama,Fantasy,Thriller',\n",
       "       'Action,Comedy,Romance', 'Action,Fantasy,Horror',\n",
       "       'Mystery,Romance,Sci-Fi', 'Comedy,Drama,Thriller',\n",
       "       'Comedy,Western', 'Drama,History,War', 'Fantasy,Horror,Thriller',\n",
       "       'Drama,Horror,Musical', 'Drama,Family', 'Romance,Sci-Fi,Thriller',\n",
       "       'Animation,Fantasy', 'Drama,Mystery,War', 'Action,Drama,Family',\n",
       "       'Adventure,Drama,Western', 'Drama,Music,Romance',\n",
       "       'Comedy,Romance,Western', 'Adventure,Drama', 'Drama,Thriller,War',\n",
       "       'Drama,Fantasy,Mystery', 'Comedy,Crime,Thriller',\n",
       "       'Animation,Comedy,Drama', 'Action,Comedy,Sci-Fi',\n",
       "       'Drama,Romance,War', 'Adventure,Fantasy,Mystery',\n",
       "       'Mystery,Romance,Thriller', 'Biography,Drama,Mystery',\n",
       "       'Animation,Drama,Romance', 'Comedy,Horror,Romance',\n",
       "       'Action,Thriller,War', 'Action,Comedy,Horror',\n",
       "       'Action,Crime,Sci-Fi', 'Crime,Thriller', 'Comedy,Horror,Sci-Fi',\n",
       "       'Crime,Drama,Fantasy', 'Drama,Fantasy,Music',\n",
       "       'Action,Comedy,Sport', 'Fantasy,Mystery,Thriller', 'Adventure',\n",
       "       'Adventure,Biography', 'Adventure,Biography,Crime',\n",
       "       'Comedy,Drama,Musical', 'Comedy,Family,Romance',\n",
       "       'Biography,Drama,Family', 'Drama,Fantasy,Musical',\n",
       "       'Adventure,Family', 'Adventure,Comedy,Fantasy',\n",
       "       'Drama,Family,Music', 'Comedy,Family,Fantasy'], dtype=object)"
      ]
     },
     "execution_count": 4,
     "metadata": {},
     "output_type": "execute_result"
    }
   ],
   "source": [
    "df['Genre'].unique()"
   ]
  },
  {
   "cell_type": "code",
   "execution_count": 5,
   "id": "219a2ac1",
   "metadata": {},
   "outputs": [
    {
     "name": "stdout",
     "output_type": "stream",
     "text": [
      "Action,Adventure,Sci-Fi    50\n",
      "Drama                      48\n",
      "Comedy,Drama,Romance       35\n",
      "Comedy                     32\n",
      "Drama,Romance              31\n",
      "                           ..\n",
      "Action,Comedy,Family        1\n",
      "Action,Crime,Fantasy        1\n",
      "Comedy,Mystery              1\n",
      "Adventure,Comedy,Horror     1\n",
      "Comedy,Family,Fantasy       1\n",
      "Name: Genre, Length: 207, dtype: int64\n"
     ]
    }
   ],
   "source": [
    "# using the .value_counts() method, explore the number of each genre type in the series\n",
    "# assign the result to a variable called genre_counts\n",
    "genre_counts = df.Genre.value_counts()\n",
    "print(genre_counts)"
   ]
  },
  {
   "cell_type": "code",
   "execution_count": 6,
   "id": "4adcdd70",
   "metadata": {},
   "outputs": [
    {
     "name": "stdout",
     "output_type": "stream",
     "text": [
      "Action,Adventure,Sci-Fi    5.0\n",
      "Drama                      4.8\n",
      "Comedy,Drama,Romance       3.5\n",
      "Comedy                     3.2\n",
      "Drama,Romance              3.1\n",
      "                          ... \n",
      "Action,Comedy,Family       0.1\n",
      "Action,Crime,Fantasy       0.1\n",
      "Comedy,Mystery             0.1\n",
      "Adventure,Comedy,Horror    0.1\n",
      "Comedy,Family,Fantasy      0.1\n",
      "Name: Genre, Length: 207, dtype: float64\n"
     ]
    }
   ],
   "source": [
    "# Find the proportions of each genre by dividing your variable assigned above by the sum of \n",
    "# all of the unique genre values\n",
    "# assign this to the variable genre_proportions\n",
    "genre_proportions = (genre_counts/genre_counts.sum())*100\n",
    "print(genre_proportions)"
   ]
  },
  {
   "cell_type": "code",
   "execution_count": 7,
   "id": "dd24f821",
   "metadata": {},
   "outputs": [
    {
     "data": {
      "text/plain": [
       "0"
      ]
     },
     "execution_count": 7,
     "metadata": {},
     "output_type": "execute_result"
    }
   ],
   "source": [
    "# the length of results a above is too long to know if there are any null values present\n",
    "# we can run .isna() on the series and collect the sum to check if there are missing values\n",
    "# uncomment the line below to see the results\n",
    "(df['Genre'].isna().sum())\n"
   ]
  },
  {
   "cell_type": "code",
   "execution_count": 8,
   "id": "77904b7c",
   "metadata": {},
   "outputs": [
    {
     "data": {
      "text/plain": [
       "Action,Adventure,Sci-Fi       5.0\n",
       "Drama                         4.8\n",
       "Comedy,Drama,Romance          3.5\n",
       "Comedy                        3.2\n",
       "Drama,Romance                 3.1\n",
       "Animation,Adventure,Comedy    2.7\n",
       "Action,Adventure,Fantasy      2.7\n",
       "Comedy,Drama                  2.7\n",
       "Comedy,Romance                2.6\n",
       "Crime,Drama,Thriller          2.4\n",
       "Crime,Drama,Mystery           2.3\n",
       "Action,Adventure,Drama        1.8\n",
       "Action,Crime,Drama            1.7\n",
       "Horror,Thriller               1.6\n",
       "Drama,Thriller                1.5\n",
       "Adventure,Family,Fantasy      1.4\n",
       "Biography,Drama,History       1.4\n",
       "Action,Adventure,Comedy       1.4\n",
       "Biography,Drama               1.4\n",
       "Action,Comedy,Crime           1.2\n",
       "Name: Genre, dtype: float64"
      ]
     },
     "execution_count": 8,
     "metadata": {},
     "output_type": "execute_result"
    }
   ],
   "source": [
    "# use .head() on genre_proportions to get a better look at the top 20 \n",
    "# remember: .head() can take a parameter to display more than 5 entries \n",
    "genre_proportions.head(20)"
   ]
  },
  {
   "cell_type": "markdown",
   "id": "9fd9e484",
   "metadata": {},
   "source": [
    "### 2. Find the minimum, maximum, average, and standard deviation of revenue data."
   ]
  },
  {
   "cell_type": "code",
   "execution_count": 9,
   "id": "7042dfa6",
   "metadata": {},
   "outputs": [
    {
     "data": {
      "text/plain": [
       "count    872.000000\n",
       "mean      82.956376\n",
       "std      103.253540\n",
       "min        0.000000\n",
       "25%       13.270000\n",
       "50%       47.985000\n",
       "75%      113.715000\n",
       "max      936.630000\n",
       "Name: Revenue (Millions), dtype: float64"
      ]
     },
     "execution_count": 9,
     "metadata": {},
     "output_type": "execute_result"
    }
   ],
   "source": [
    "# use .describe() on the revenue column to see some summary statistics of the revenue data present\n",
    "df['Revenue (Millions)'].describe()"
   ]
  },
  {
   "cell_type": "code",
   "execution_count": 10,
   "id": "9f7d6224",
   "metadata": {},
   "outputs": [
    {
     "name": "stdout",
     "output_type": "stream",
     "text": [
      "128\n"
     ]
    }
   ],
   "source": [
    "print(df['Revenue (Millions)'].isna().sum())\n",
    "#128 out of 872 values are N/A. I wonder how many are 0s, and if they're valid. Surely some movies didn't make $0!!"
   ]
  },
  {
   "cell_type": "code",
   "execution_count": 11,
   "id": "b66e8ab8",
   "metadata": {},
   "outputs": [
    {
     "name": "stdout",
     "output_type": "stream",
     "text": [
      "1\n"
     ]
    }
   ],
   "source": [
    "print((df['Revenue (Millions)'] == 0).sum())"
   ]
  },
  {
   "cell_type": "code",
   "execution_count": 12,
   "id": "f50bcff1",
   "metadata": {},
   "outputs": [],
   "source": [
    "df = df.rename(columns={'Revenue (Millions)' : 'Rev'})"
   ]
  },
  {
   "cell_type": "code",
   "execution_count": 13,
   "id": "075ae84a",
   "metadata": {},
   "outputs": [
    {
     "name": "stdout",
     "output_type": "stream",
     "text": [
      "0      333.130000\n",
      "1      126.460000\n",
      "2      138.120000\n",
      "3      270.320000\n",
      "4      325.020000\n",
      "          ...    \n",
      "995     82.956376\n",
      "996     17.540000\n",
      "997     58.010000\n",
      "998     82.956376\n",
      "999     19.640000\n",
      "Name: Rev, Length: 1000, dtype: float64\n"
     ]
    }
   ],
   "source": [
    "#Nice. Let's go ahead and insert the mean into all of the N/A values for revenue. I'll remove the 0 value, too.\n",
    "df['Rev'] = df.Rev.fillna(82.956376)\n",
    "print(df['Rev'])"
   ]
  },
  {
   "cell_type": "markdown",
   "id": "de436940",
   "metadata": {},
   "source": [
    "Do we have any missing revenue entries?\n",
    "Add a new code cell below this and use ``.isna()`` on the column to check.\n",
    "Ask yourself: does this affect the results of ``.describe()``?\n",
    "Hint: look at the count result above and compare that with the ``Length`` returned with ``.isna()``"
   ]
  },
  {
   "cell_type": "markdown",
   "id": "d50f3ba9",
   "metadata": {},
   "source": [
    "### 3. Make a plot distribution of the revenue data.\n"
   ]
  },
  {
   "cell_type": "code",
   "execution_count": 14,
   "id": "fd50cc47",
   "metadata": {},
   "outputs": [
    {
     "data": {
      "text/plain": [
       "<Axes: xlabel='Rev', ylabel='Count'>"
      ]
     },
     "execution_count": 14,
     "metadata": {},
     "output_type": "execute_result"
    },
    {
     "data": {
      "image/png": "[encoded data removed]",
      "text/plain": [
       "<Figure size 640x480 with 1 Axes>"
      ]
     },
     "metadata": {},
     "output_type": "display_data"
    }
   ],
   "source": [
    "# use sns.histplot to get a birds eye view of the revenue distribution\n",
    "# Note: the refernce article plots Cholesterol data with ``distplot`` but we recieve \n",
    "# a deprecation warning so we've switched it with ``histplot``. The resulting graph is \n",
    "# virtually the same.\n",
    "sns.histplot(data=df, x='Rev')"
   ]
  },
  {
   "cell_type": "markdown",
   "id": "8afe2aaf",
   "metadata": {},
   "source": [
    "Look back at your ``.describe()`` results above. Does this plotted distribution match the results of the 25%, 50%, and 75% percentile data?\n",
    "\n",
    "Create another code cell below this and make another histplot but with only the top 20 items in the revenue column. Run ``.describe()`` on the top 20 to again check the percentile distributions with what the graph displays."
   ]
  },
  {
   "cell_type": "code",
   "execution_count": 15,
   "id": "fd3802e2",
   "metadata": {},
   "outputs": [
    {
     "name": "stdout",
     "output_type": "stream",
     "text": [
      "     Rank                                         Title  \\\n",
      "50     51    Star Wars: Episode VII - The Force Awakens   \n",
      "87     88                                        Avatar   \n",
      "85     86                                Jurassic World   \n",
      "76     77                                  The Avengers   \n",
      "54     55                               The Dark Knight   \n",
      "12     13                                     Rogue One   \n",
      "119   120                                  Finding Dory   \n",
      "94     95                       Avengers: Age of Ultron   \n",
      "124   125                         The Dark Knight Rises   \n",
      "578   579               The Hunger Games: Catching Fire   \n",
      "78     79    Pirates of the Caribbean: Dead Man's Chest   \n",
      "688   689                                   Toy Story 3   \n",
      "279   280                                Iron Man Three   \n",
      "35     36                    Captain America: Civil War   \n",
      "151   152                              The Hunger Games   \n",
      "710   711           Transformers: Revenge of the Fallen   \n",
      "174   175                                        Frozen   \n",
      "114   115  Harry Potter and the Deathly Hallows: Part 2   \n",
      "15     16                       The Secret Life of Pets   \n",
      "797   798                               Despicable Me 2   \n",
      "\n",
      "                          Genre  \\\n",
      "50     Action,Adventure,Fantasy   \n",
      "87     Action,Adventure,Fantasy   \n",
      "85      Action,Adventure,Sci-Fi   \n",
      "76                Action,Sci-Fi   \n",
      "54           Action,Crime,Drama   \n",
      "12      Action,Adventure,Sci-Fi   \n",
      "119  Animation,Adventure,Comedy   \n",
      "94      Action,Adventure,Sci-Fi   \n",
      "124             Action,Thriller   \n",
      "578    Action,Adventure,Mystery   \n",
      "78     Action,Adventure,Fantasy   \n",
      "688  Animation,Adventure,Comedy   \n",
      "279     Action,Adventure,Sci-Fi   \n",
      "35      Action,Adventure,Sci-Fi   \n",
      "151   Adventure,Sci-Fi,Thriller   \n",
      "710     Action,Adventure,Sci-Fi   \n",
      "174  Animation,Adventure,Comedy   \n",
      "114     Adventure,Drama,Fantasy   \n",
      "15   Animation,Adventure,Comedy   \n",
      "797  Animation,Adventure,Comedy   \n",
      "\n",
      "                                           Description           Director  \\\n",
      "50   Three decades after the defeat of the Galactic...        J.J. Abrams   \n",
      "87   A paraplegic marine dispatched to the moon Pan...      James Cameron   \n",
      "85   A new theme park, built on the original site o...    Colin Trevorrow   \n",
      "76   Earth's mightiest heroes must come together an...        Joss Whedon   \n",
      "54   When the menace known as the Joker wreaks havo...  Christopher Nolan   \n",
      "12   The Rebel Alliance makes a risky move to steal...     Gareth Edwards   \n",
      "119  The friendly but forgetful blue tang fish, Dor...     Andrew Stanton   \n",
      "94   When Tony Stark and Bruce Banner try to jump-s...        Joss Whedon   \n",
      "124  Eight years after the Joker's reign of anarchy...  Christopher Nolan   \n",
      "578  Katniss Everdeen and Peeta Mellark become targ...   Francis Lawrence   \n",
      "78   Jack Sparrow races to recover the heart of Dav...     Gore Verbinski   \n",
      "688  The toys are mistakenly delivered to a day-car...        Lee Unkrich   \n",
      "279  When Tony Stark's world is torn apart by a for...        Shane Black   \n",
      "35   Political interference in the Avengers' activi...      Anthony Russo   \n",
      "151  Katniss Everdeen voluntarily takes her younger...          Gary Ross   \n",
      "710  Sam Witwicky leaves the Autobots behind for a ...        Michael Bay   \n",
      "174  When the newly crowned Queen Elsa accidentally...         Chris Buck   \n",
      "114  Harry, Ron and Hermione search for Voldemort's...        David Yates   \n",
      "15   The quiet life of a terrier named Max is upend...       Chris Renaud   \n",
      "797  When Gru, the world's most super-bad turned su...      Pierre Coffin   \n",
      "\n",
      "                                                Actors  Year  \\\n",
      "50   Daisy Ridley, John Boyega, Oscar Isaac, Domhna...  2015   \n",
      "87   Sam Worthington, Zoe Saldana, Sigourney Weaver...  2009   \n",
      "85   Chris Pratt, Bryce Dallas Howard, Ty Simpkins,...  2015   \n",
      "76   Robert Downey Jr., Chris Evans, Scarlett Johan...  2012   \n",
      "54   Christian Bale, Heath Ledger, Aaron Eckhart,Mi...  2008   \n",
      "12   Felicity Jones, Diego Luna, Alan Tudyk, Donnie...  2016   \n",
      "119  Ellen DeGeneres, Albert Brooks,Ed O'Neill, Kai...  2016   \n",
      "94   Robert Downey Jr., Chris Evans, Mark Ruffalo, ...  2015   \n",
      "124  Christian Bale, Tom Hardy, Anne Hathaway,Gary ...  2012   \n",
      "578  Jennifer Lawrence, Josh Hutcherson, Liam Hemsw...  2013   \n",
      "78   Johnny Depp, Orlando Bloom, Keira Knightley, J...  2006   \n",
      "688      Tom Hanks, Tim Allen, Joan Cusack, Ned Beatty  2010   \n",
      "279  Robert Downey Jr., Guy Pearce, Gwyneth Paltrow...  2013   \n",
      "35   Chris Evans, Robert Downey Jr.,Scarlett Johans...  2016   \n",
      "151  Jennifer Lawrence, Josh Hutcherson, Liam Hemsw...  2012   \n",
      "710  Shia LaBeouf, Megan Fox, Josh Duhamel, Tyrese ...  2009   \n",
      "174  Kristen Bell, Idina Menzel, Jonathan Groff, Jo...  2013   \n",
      "114  Daniel Radcliffe, Emma Watson, Rupert Grint, M...  2011   \n",
      "15   Louis C.K., Eric Stonestreet, Kevin Hart, Lake...  2016   \n",
      "797  Steve Carell, Kristen Wiig, Benjamin Bratt, Mi...  2013   \n",
      "\n",
      "     Runtime (Minutes)  Rating    Votes     Rev  Metascore  \n",
      "50                 136     8.1   661608  936.63       81.0  \n",
      "87                 162     7.8   935408  760.51       83.0  \n",
      "85                 124     7.0   455169  652.18       59.0  \n",
      "76                 143     8.1  1045588  623.28       69.0  \n",
      "54                 152     9.0  1791916  533.32       82.0  \n",
      "12                 133     7.9   323118  532.17       65.0  \n",
      "119                 97     7.4   157026  486.29       77.0  \n",
      "94                 141     7.4   516895  458.99       66.0  \n",
      "124                164     8.5  1222645  448.13       78.0  \n",
      "578                146     7.6   525646  424.65       76.0  \n",
      "78                 151     7.3   552027  423.03       53.0  \n",
      "688                103     8.3   586669  414.98       92.0  \n",
      "279                130     7.2   591023  408.99       62.0  \n",
      "35                 147     7.9   411656  408.08       75.0  \n",
      "151                142     7.2   735604  408.00       68.0  \n",
      "710                150     6.0   335757  402.08       35.0  \n",
      "174                102     7.5   451894  400.74       74.0  \n",
      "114                130     8.1   590595  380.96       87.0  \n",
      "15                  87     6.6   120259  368.31       61.0  \n",
      "797                 98     7.4   304837  368.05       62.0  \n"
     ]
    }
   ],
   "source": [
    "sorted_Rev = df.nlargest(20, 'Rev')\n",
    "\n",
    "print(sorted_Rev)"
   ]
  },
  {
   "cell_type": "code",
   "execution_count": 16,
   "id": "aaaee1ad",
   "metadata": {},
   "outputs": [
    {
     "data": {
      "text/plain": [
       "<Axes: xlabel='Rev', ylabel='Count'>"
      ]
     },
     "execution_count": 16,
     "metadata": {},
     "output_type": "execute_result"
    },
    {
     "data": {
      "image/png": "[encoded data removed]",
      "text/plain": [
       "<Figure size 640x480 with 1 Axes>"
      ]
     },
     "metadata": {},
     "output_type": "display_data"
    }
   ],
   "source": [
    "\n",
    "sns.histplot(data=sorted_Rev, x=sorted_Rev['Rev'])"
   ]
  },
  {
   "cell_type": "markdown",
   "id": "7d8595c5",
   "metadata": {},
   "source": [
    "### 4. Find the % of movies with a higher than avergage Rating"
   ]
  },
  {
   "cell_type": "code",
   "execution_count": 17,
   "id": "66b6460d",
   "metadata": {},
   "outputs": [
    {
     "name": "stdout",
     "output_type": "stream",
     "text": [
      "6.723199999999999\n"
     ]
    }
   ],
   "source": [
    "# create a variable called mean_rating.\n",
    "# assign mean_rating the result of running ``.mean()`` on the rating column.\n",
    "mean_rating = df['Rating'].dropna().mean()\n",
    "print(mean_rating)\n"
   ]
  },
  {
   "cell_type": "code",
   "execution_count": 18,
   "id": "7454148e",
   "metadata": {},
   "outputs": [
    {
     "data": {
      "text/plain": [
       "0.513"
      ]
     },
     "execution_count": 18,
     "metadata": {},
     "output_type": "execute_result"
    }
   ],
   "source": [
    "# Find the dataset where a movie's rating is higher than mean_rating. \n",
    "# Divide that by the length of the total dataset.\n",
    "len(df[df[\"Rating\"] > mean_rating])/len(df)"
   ]
  },
  {
   "cell_type": "markdown",
   "id": "1c623861",
   "metadata": {},
   "source": [
    "### 5. Plot the rating data against genre to observe the difference in score in different movie types"
   ]
  },
  {
   "cell_type": "code",
   "execution_count": 19,
   "id": "fce70293",
   "metadata": {},
   "outputs": [
    {
     "data": {
      "text/plain": [
       "count    1000.000000\n",
       "mean        6.723200\n",
       "std         0.945429\n",
       "min         1.900000\n",
       "25%         6.200000\n",
       "50%         6.800000\n",
       "75%         7.400000\n",
       "max         9.000000\n",
       "Name: Rating, dtype: float64"
      ]
     },
     "execution_count": 19,
     "metadata": {},
     "output_type": "execute_result"
    }
   ],
   "source": [
    "# run describe on the rating column\n",
    "df['Rating'].describe()"
   ]
  },
  {
   "cell_type": "code",
   "execution_count": 23,
   "id": "212c395b",
   "metadata": {},
   "outputs": [
    {
     "ename": "TypeError",
     "evalue": "Neither the `x` nor `y` variable appears to be numeric.",
     "output_type": "error",
     "traceback": [
      "\u001b[1;31m---------------------------------------------------------------------------\u001b[0m",
      "\u001b[1;31mTypeError\u001b[0m                                 Traceback (most recent call last)",
      "Cell \u001b[1;32mIn[23], line 6\u001b[0m\n\u001b[0;32m      4\u001b[0m \u001b[38;5;66;03m#print(df['RatingGenres'].head(10))\u001b[39;00m\n\u001b[0;32m      5\u001b[0m plt\u001b[38;5;241m.\u001b[39mfigure(figsize\u001b[38;5;241m=\u001b[39m(\u001b[38;5;241m12\u001b[39m,\u001b[38;5;241m5\u001b[39m))\n\u001b[1;32m----> 6\u001b[0m \u001b[43msns\u001b[49m\u001b[38;5;241;43m.\u001b[39;49m\u001b[43mboxplot\u001b[49m\u001b[43m(\u001b[49m\u001b[43mx\u001b[49m\u001b[43m \u001b[49m\u001b[38;5;241;43m=\u001b[39;49m\u001b[43m \u001b[49m\u001b[38;5;124;43m\"\u001b[39;49m\u001b[38;5;124;43mGenre\u001b[39;49m\u001b[38;5;124;43m\"\u001b[39;49m\u001b[43m,\u001b[49m\u001b[43m \u001b[49m\u001b[43my\u001b[49m\u001b[43m \u001b[49m\u001b[38;5;241;43m=\u001b[39;49m\u001b[43m \u001b[49m\u001b[38;5;124;43m\"\u001b[39;49m\u001b[38;5;124;43mRatingGenres\u001b[39;49m\u001b[38;5;124;43m\"\u001b[39;49m\u001b[43m,\u001b[49m\u001b[43m \u001b[49m\u001b[43mdata\u001b[49m\u001b[38;5;241;43m=\u001b[39;49m\u001b[43mdf\u001b[49m\u001b[43m)\u001b[49m\n",
      "File \u001b[1;32m~\\AppData\\Local\\Programs\\Python\\Python311\\Lib\\site-packages\\seaborn\\categorical.py:2231\u001b[0m, in \u001b[0;36mboxplot\u001b[1;34m(data, x, y, hue, order, hue_order, orient, color, palette, saturation, width, dodge, fliersize, linewidth, whis, ax, **kwargs)\u001b[0m\n\u001b[0;32m   2224\u001b[0m \u001b[38;5;28;01mdef\u001b[39;00m \u001b[38;5;21mboxplot\u001b[39m(\n\u001b[0;32m   2225\u001b[0m     data\u001b[38;5;241m=\u001b[39m\u001b[38;5;28;01mNone\u001b[39;00m, \u001b[38;5;241m*\u001b[39m, x\u001b[38;5;241m=\u001b[39m\u001b[38;5;28;01mNone\u001b[39;00m, y\u001b[38;5;241m=\u001b[39m\u001b[38;5;28;01mNone\u001b[39;00m, hue\u001b[38;5;241m=\u001b[39m\u001b[38;5;28;01mNone\u001b[39;00m, order\u001b[38;5;241m=\u001b[39m\u001b[38;5;28;01mNone\u001b[39;00m, hue_order\u001b[38;5;241m=\u001b[39m\u001b[38;5;28;01mNone\u001b[39;00m,\n\u001b[0;32m   2226\u001b[0m     orient\u001b[38;5;241m=\u001b[39m\u001b[38;5;28;01mNone\u001b[39;00m, color\u001b[38;5;241m=\u001b[39m\u001b[38;5;28;01mNone\u001b[39;00m, palette\u001b[38;5;241m=\u001b[39m\u001b[38;5;28;01mNone\u001b[39;00m, saturation\u001b[38;5;241m=\u001b[39m\u001b[38;5;241m.75\u001b[39m, width\u001b[38;5;241m=\u001b[39m\u001b[38;5;241m.8\u001b[39m,\n\u001b[0;32m   2227\u001b[0m     dodge\u001b[38;5;241m=\u001b[39m\u001b[38;5;28;01mTrue\u001b[39;00m, fliersize\u001b[38;5;241m=\u001b[39m\u001b[38;5;241m5\u001b[39m, linewidth\u001b[38;5;241m=\u001b[39m\u001b[38;5;28;01mNone\u001b[39;00m, whis\u001b[38;5;241m=\u001b[39m\u001b[38;5;241m1.5\u001b[39m, ax\u001b[38;5;241m=\u001b[39m\u001b[38;5;28;01mNone\u001b[39;00m,\n\u001b[0;32m   2228\u001b[0m     \u001b[38;5;241m*\u001b[39m\u001b[38;5;241m*\u001b[39mkwargs\n\u001b[0;32m   2229\u001b[0m ):\n\u001b[1;32m-> 2231\u001b[0m     plotter \u001b[38;5;241m=\u001b[39m \u001b[43m_BoxPlotter\u001b[49m\u001b[43m(\u001b[49m\u001b[43mx\u001b[49m\u001b[43m,\u001b[49m\u001b[43m \u001b[49m\u001b[43my\u001b[49m\u001b[43m,\u001b[49m\u001b[43m \u001b[49m\u001b[43mhue\u001b[49m\u001b[43m,\u001b[49m\u001b[43m \u001b[49m\u001b[43mdata\u001b[49m\u001b[43m,\u001b[49m\u001b[43m \u001b[49m\u001b[43morder\u001b[49m\u001b[43m,\u001b[49m\u001b[43m \u001b[49m\u001b[43mhue_order\u001b[49m\u001b[43m,\u001b[49m\n\u001b[0;32m   2232\u001b[0m \u001b[43m                          \u001b[49m\u001b[43morient\u001b[49m\u001b[43m,\u001b[49m\u001b[43m \u001b[49m\u001b[43mcolor\u001b[49m\u001b[43m,\u001b[49m\u001b[43m \u001b[49m\u001b[43mpalette\u001b[49m\u001b[43m,\u001b[49m\u001b[43m \u001b[49m\u001b[43msaturation\u001b[49m\u001b[43m,\u001b[49m\n\u001b[0;32m   2233\u001b[0m \u001b[43m                          \u001b[49m\u001b[43mwidth\u001b[49m\u001b[43m,\u001b[49m\u001b[43m \u001b[49m\u001b[43mdodge\u001b[49m\u001b[43m,\u001b[49m\u001b[43m \u001b[49m\u001b[43mfliersize\u001b[49m\u001b[43m,\u001b[49m\u001b[43m \u001b[49m\u001b[43mlinewidth\u001b[49m\u001b[43m)\u001b[49m\n\u001b[0;32m   2235\u001b[0m     \u001b[38;5;28;01mif\u001b[39;00m ax \u001b[38;5;129;01mis\u001b[39;00m \u001b[38;5;28;01mNone\u001b[39;00m:\n\u001b[0;32m   2236\u001b[0m         ax \u001b[38;5;241m=\u001b[39m plt\u001b[38;5;241m.\u001b[39mgca()\n",
      "File \u001b[1;32m~\\AppData\\Local\\Programs\\Python\\Python311\\Lib\\site-packages\\seaborn\\categorical.py:785\u001b[0m, in \u001b[0;36m_BoxPlotter.__init__\u001b[1;34m(self, x, y, hue, data, order, hue_order, orient, color, palette, saturation, width, dodge, fliersize, linewidth)\u001b[0m\n\u001b[0;32m    781\u001b[0m \u001b[38;5;28;01mdef\u001b[39;00m \u001b[38;5;21m__init__\u001b[39m(\u001b[38;5;28mself\u001b[39m, x, y, hue, data, order, hue_order,\n\u001b[0;32m    782\u001b[0m              orient, color, palette, saturation,\n\u001b[0;32m    783\u001b[0m              width, dodge, fliersize, linewidth):\n\u001b[1;32m--> 785\u001b[0m     \u001b[38;5;28;43mself\u001b[39;49m\u001b[38;5;241;43m.\u001b[39;49m\u001b[43mestablish_variables\u001b[49m\u001b[43m(\u001b[49m\u001b[43mx\u001b[49m\u001b[43m,\u001b[49m\u001b[43m \u001b[49m\u001b[43my\u001b[49m\u001b[43m,\u001b[49m\u001b[43m \u001b[49m\u001b[43mhue\u001b[49m\u001b[43m,\u001b[49m\u001b[43m \u001b[49m\u001b[43mdata\u001b[49m\u001b[43m,\u001b[49m\u001b[43m \u001b[49m\u001b[43morient\u001b[49m\u001b[43m,\u001b[49m\u001b[43m \u001b[49m\u001b[43morder\u001b[49m\u001b[43m,\u001b[49m\u001b[43m \u001b[49m\u001b[43mhue_order\u001b[49m\u001b[43m)\u001b[49m\n\u001b[0;32m    786\u001b[0m     \u001b[38;5;28mself\u001b[39m\u001b[38;5;241m.\u001b[39mestablish_colors(color, palette, saturation)\n\u001b[0;32m    788\u001b[0m     \u001b[38;5;28mself\u001b[39m\u001b[38;5;241m.\u001b[39mdodge \u001b[38;5;241m=\u001b[39m dodge\n",
      "File \u001b[1;32m~\\AppData\\Local\\Programs\\Python\\Python311\\Lib\\site-packages\\seaborn\\categorical.py:544\u001b[0m, in \u001b[0;36m_CategoricalPlotter.establish_variables\u001b[1;34m(self, x, y, hue, data, orient, order, hue_order, units)\u001b[0m\n\u001b[0;32m    541\u001b[0m         \u001b[38;5;28;01mraise\u001b[39;00m \u001b[38;5;167;01mValueError\u001b[39;00m(err)\n\u001b[0;32m    543\u001b[0m \u001b[38;5;66;03m# Figure out the plotting orientation\u001b[39;00m\n\u001b[1;32m--> 544\u001b[0m orient \u001b[38;5;241m=\u001b[39m \u001b[43minfer_orient\u001b[49m\u001b[43m(\u001b[49m\n\u001b[0;32m    545\u001b[0m \u001b[43m    \u001b[49m\u001b[43mx\u001b[49m\u001b[43m,\u001b[49m\u001b[43m \u001b[49m\u001b[43my\u001b[49m\u001b[43m,\u001b[49m\u001b[43m \u001b[49m\u001b[43morient\u001b[49m\u001b[43m,\u001b[49m\u001b[43m \u001b[49m\u001b[43mrequire_numeric\u001b[49m\u001b[38;5;241;43m=\u001b[39;49m\u001b[38;5;28;43mself\u001b[39;49m\u001b[38;5;241;43m.\u001b[39;49m\u001b[43mrequire_numeric\u001b[49m\n\u001b[0;32m    546\u001b[0m \u001b[43m\u001b[49m\u001b[43m)\u001b[49m\n\u001b[0;32m    548\u001b[0m \u001b[38;5;66;03m# Option 2a:\u001b[39;00m\n\u001b[0;32m    549\u001b[0m \u001b[38;5;66;03m# We are plotting a single set of data\u001b[39;00m\n\u001b[0;32m    550\u001b[0m \u001b[38;5;66;03m# ------------------------------------\u001b[39;00m\n\u001b[0;32m    551\u001b[0m \u001b[38;5;28;01mif\u001b[39;00m x \u001b[38;5;129;01mis\u001b[39;00m \u001b[38;5;28;01mNone\u001b[39;00m \u001b[38;5;129;01mor\u001b[39;00m y \u001b[38;5;129;01mis\u001b[39;00m \u001b[38;5;28;01mNone\u001b[39;00m:\n\u001b[0;32m    552\u001b[0m \n\u001b[0;32m    553\u001b[0m     \u001b[38;5;66;03m# Determine where the data are\u001b[39;00m\n",
      "File \u001b[1;32m~\\AppData\\Local\\Programs\\Python\\Python311\\Lib\\site-packages\\seaborn\\_oldcore.py:1632\u001b[0m, in \u001b[0;36minfer_orient\u001b[1;34m(x, y, orient, require_numeric)\u001b[0m\n\u001b[0;32m   1630\u001b[0m \u001b[38;5;28;01melif\u001b[39;00m require_numeric \u001b[38;5;129;01mand\u001b[39;00m \u001b[38;5;124m\"\u001b[39m\u001b[38;5;124mnumeric\u001b[39m\u001b[38;5;124m\"\u001b[39m \u001b[38;5;129;01mnot\u001b[39;00m \u001b[38;5;129;01min\u001b[39;00m (x_type, y_type):\n\u001b[0;32m   1631\u001b[0m     err \u001b[38;5;241m=\u001b[39m \u001b[38;5;124m\"\u001b[39m\u001b[38;5;124mNeither the `x` nor `y` variable appears to be numeric.\u001b[39m\u001b[38;5;124m\"\u001b[39m\n\u001b[1;32m-> 1632\u001b[0m     \u001b[38;5;28;01mraise\u001b[39;00m \u001b[38;5;167;01mTypeError\u001b[39;00m(err)\n\u001b[0;32m   1634\u001b[0m \u001b[38;5;28;01melse\u001b[39;00m:\n\u001b[0;32m   1635\u001b[0m     \u001b[38;5;28;01mreturn\u001b[39;00m \u001b[38;5;124m\"\u001b[39m\u001b[38;5;124mv\u001b[39m\u001b[38;5;124m\"\u001b[39m\n",
      "\u001b[1;31mTypeError\u001b[0m: Neither the `x` nor `y` variable appears to be numeric."
     ]
    },
    {
     "data": {
      "text/plain": [
       "<Figure size 1200x500 with 0 Axes>"
      ]
     },
     "metadata": {},
     "output_type": "display_data"
    }
   ],
   "source": [
    "# Plot the rating data against genres\n",
    "# First, lets mirror what our reference article plots\n",
    "df[\"RatingGenres\"]=pd.cut(df.Rating, [2,4,6,8,10])\n",
    "#print(df['RatingGenres'].head(10))\n",
    "plt.figure(figsize=(12,5))\n",
    "sns.boxplot(x = \"Genre\", y = \"RatingGenres\", data=df)"
   ]
  },
  {
   "cell_type": "code",
   "execution_count": 23,
   "id": "c77ca115",
   "metadata": {},
   "outputs": [
    {
     "data": {
      "text/plain": [
       "<Axes: xlabel='Genre', ylabel='Rating'>"
      ]
     },
     "execution_count": 23,
     "metadata": {},
     "output_type": "execute_result"
    },
    {
     "data": {
      "image/png": "[encoded data removed]",
      "text/plain": [
       "<Figure size 640x480 with 1 Axes>"
      ]
     },
     "metadata": {},
     "output_type": "display_data"
    }
   ],
   "source": [
    "sns.boxplot(x = \"Genre\", y = \"Rating\", data=df.head(20))"
   ]
  },
  {
   "cell_type": "code",
   "execution_count": 24,
   "id": "482e78c0",
   "metadata": {},
   "outputs": [
    {
     "data": {
      "text/plain": [
       "<Axes: xlabel='Genre', ylabel='Rating'>"
      ]
     },
     "execution_count": 24,
     "metadata": {},
     "output_type": "execute_result"
    },
    {
     "data": {
      "image/png": "[encoded data removed]",
      "text/plain": [
       "<Figure size 640x480 with 1 Axes>"
      ]
     },
     "metadata": {},
     "output_type": "display_data"
    }
   ],
   "source": [
    "sns.scatterplot(x = \"Genre\", y = \"Rating\", data=df.head(20))"
   ]
  },
  {
   "cell_type": "markdown",
   "id": "ed28d392",
   "metadata": {},
   "source": [
    "That graph isn't very helpful! \n",
    "Create a new code cell below this and create the same plot, but this time for data used,\n",
    "use only the first 20 entries.\n",
    "Do you find that any easier to read and interpret?\n",
    "Next, create one more cell. Use the same axes and the top 20 items in the data, but plot using ``sns.scatterplot()``. Do you learn anything different between the boxplot and the scatterplot?"
   ]
  },
  {
   "cell_type": "markdown",
   "id": "0bb688aa",
   "metadata": {},
   "source": [
    "### 6. Make a chart to show the number of films in each rating group each year"
   ]
  },
  {
   "cell_type": "code",
   "execution_count": 24,
   "id": "50a75081",
   "metadata": {},
   "outputs": [],
   "source": [
    "# Create a new column called rating_group\n",
    "# Use to pd.cut() to bin(group) the rating_group column values by integer intervals 1-10\n",
    "rating_group = pd.cut(df.Rating, [1,2,3,4,5,6,7,8,9,10])"
   ]
  },
  {
   "cell_type": "code",
   "execution_count": 25,
   "id": "f09fe124",
   "metadata": {},
   "outputs": [
    {
     "name": "stdout",
     "output_type": "stream",
     "text": [
      "0     (8, 9]\n",
      "1     (6, 7]\n",
      "2     (7, 8]\n",
      "3     (7, 8]\n",
      "4     (6, 7]\n",
      "5     (6, 7]\n",
      "6     (8, 9]\n",
      "7     (6, 7]\n",
      "8     (7, 8]\n",
      "9     (6, 7]\n",
      "10    (7, 8]\n",
      "11    (7, 8]\n",
      "12    (7, 8]\n",
      "13    (7, 8]\n",
      "14    (6, 7]\n",
      "15    (6, 7]\n",
      "16    (8, 9]\n",
      "17    (6, 7]\n",
      "18    (8, 9]\n",
      "19    (7, 8]\n",
      "Name: Rating, dtype: category\n",
      "Categories (9, interval[int64, right]): [(1, 2] < (2, 3] < (3, 4] < (4, 5] ... (6, 7] < (7, 8] < (8, 9] < (9, 10]]\n"
     ]
    }
   ],
   "source": [
    "print(rating_group.head(20))"
   ]
  },
  {
   "cell_type": "code",
   "execution_count": 38,
   "id": "7e4caa7e",
   "metadata": {},
   "outputs": [
    {
     "ename": "KeyError",
     "evalue": "'rating_group'",
     "output_type": "error",
     "traceback": [
      "\u001b[1;31m---------------------------------------------------------------------------\u001b[0m",
      "\u001b[1;31mKeyError\u001b[0m                                  Traceback (most recent call last)",
      "Cell \u001b[1;32mIn[38], line 1\u001b[0m\n\u001b[1;32m----> 1\u001b[0m dx \u001b[38;5;241m=\u001b[39m \u001b[43mdf\u001b[49m\u001b[38;5;241;43m.\u001b[39;49m\u001b[43mdropna\u001b[49m\u001b[43m(\u001b[49m\u001b[43m)\u001b[49m\u001b[38;5;241;43m.\u001b[39;49m\u001b[43mgroupby\u001b[49m\u001b[43m(\u001b[49m\u001b[43m[\u001b[49m\u001b[38;5;124;43m\"\u001b[39;49m\u001b[38;5;124;43mrating_group\u001b[39;49m\u001b[38;5;124;43m\"\u001b[39;49m\u001b[43m,\u001b[49m\u001b[43m \u001b[49m\u001b[38;5;124;43m\"\u001b[39;49m\u001b[38;5;124;43mYear\u001b[39;49m\u001b[38;5;124;43m\"\u001b[39;49m\u001b[43m]\u001b[49m\u001b[43m)\u001b[49m[\u001b[38;5;124m\"\u001b[39m\u001b[38;5;124mYear\u001b[39m\u001b[38;5;124m\"\u001b[39m]\u001b[38;5;241m.\u001b[39mvalue_counts()\n",
      "File \u001b[1;32m~\\AppData\\Local\\Programs\\Python\\Python311\\Lib\\site-packages\\pandas\\core\\frame.py:8402\u001b[0m, in \u001b[0;36mDataFrame.groupby\u001b[1;34m(self, by, axis, level, as_index, sort, group_keys, squeeze, observed, dropna)\u001b[0m\n\u001b[0;32m   8399\u001b[0m     \u001b[38;5;28;01mraise\u001b[39;00m \u001b[38;5;167;01mTypeError\u001b[39;00m(\u001b[38;5;124m\"\u001b[39m\u001b[38;5;124mYou have to supply one of \u001b[39m\u001b[38;5;124m'\u001b[39m\u001b[38;5;124mby\u001b[39m\u001b[38;5;124m'\u001b[39m\u001b[38;5;124m and \u001b[39m\u001b[38;5;124m'\u001b[39m\u001b[38;5;124mlevel\u001b[39m\u001b[38;5;124m'\u001b[39m\u001b[38;5;124m\"\u001b[39m)\n\u001b[0;32m   8400\u001b[0m axis \u001b[38;5;241m=\u001b[39m \u001b[38;5;28mself\u001b[39m\u001b[38;5;241m.\u001b[39m_get_axis_number(axis)\n\u001b[1;32m-> 8402\u001b[0m \u001b[38;5;28;01mreturn\u001b[39;00m \u001b[43mDataFrameGroupBy\u001b[49m\u001b[43m(\u001b[49m\n\u001b[0;32m   8403\u001b[0m \u001b[43m    \u001b[49m\u001b[43mobj\u001b[49m\u001b[38;5;241;43m=\u001b[39;49m\u001b[38;5;28;43mself\u001b[39;49m\u001b[43m,\u001b[49m\n\u001b[0;32m   8404\u001b[0m \u001b[43m    \u001b[49m\u001b[43mkeys\u001b[49m\u001b[38;5;241;43m=\u001b[39;49m\u001b[43mby\u001b[49m\u001b[43m,\u001b[49m\n\u001b[0;32m   8405\u001b[0m \u001b[43m    \u001b[49m\u001b[43maxis\u001b[49m\u001b[38;5;241;43m=\u001b[39;49m\u001b[43maxis\u001b[49m\u001b[43m,\u001b[49m\n\u001b[0;32m   8406\u001b[0m \u001b[43m    \u001b[49m\u001b[43mlevel\u001b[49m\u001b[38;5;241;43m=\u001b[39;49m\u001b[43mlevel\u001b[49m\u001b[43m,\u001b[49m\n\u001b[0;32m   8407\u001b[0m \u001b[43m    \u001b[49m\u001b[43mas_index\u001b[49m\u001b[38;5;241;43m=\u001b[39;49m\u001b[43mas_index\u001b[49m\u001b[43m,\u001b[49m\n\u001b[0;32m   8408\u001b[0m \u001b[43m    \u001b[49m\u001b[43msort\u001b[49m\u001b[38;5;241;43m=\u001b[39;49m\u001b[43msort\u001b[49m\u001b[43m,\u001b[49m\n\u001b[0;32m   8409\u001b[0m \u001b[43m    \u001b[49m\u001b[43mgroup_keys\u001b[49m\u001b[38;5;241;43m=\u001b[39;49m\u001b[43mgroup_keys\u001b[49m\u001b[43m,\u001b[49m\n\u001b[0;32m   8410\u001b[0m \u001b[43m    \u001b[49m\u001b[43msqueeze\u001b[49m\u001b[38;5;241;43m=\u001b[39;49m\u001b[43msqueeze\u001b[49m\u001b[43m,\u001b[49m\n\u001b[0;32m   8411\u001b[0m \u001b[43m    \u001b[49m\u001b[43mobserved\u001b[49m\u001b[38;5;241;43m=\u001b[39;49m\u001b[43mobserved\u001b[49m\u001b[43m,\u001b[49m\n\u001b[0;32m   8412\u001b[0m \u001b[43m    \u001b[49m\u001b[43mdropna\u001b[49m\u001b[38;5;241;43m=\u001b[39;49m\u001b[43mdropna\u001b[49m\u001b[43m,\u001b[49m\n\u001b[0;32m   8413\u001b[0m \u001b[43m\u001b[49m\u001b[43m)\u001b[49m\n",
      "File \u001b[1;32m~\\AppData\\Local\\Programs\\Python\\Python311\\Lib\\site-packages\\pandas\\core\\groupby\\groupby.py:965\u001b[0m, in \u001b[0;36mGroupBy.__init__\u001b[1;34m(self, obj, keys, axis, level, grouper, exclusions, selection, as_index, sort, group_keys, squeeze, observed, mutated, dropna)\u001b[0m\n\u001b[0;32m    962\u001b[0m \u001b[38;5;28;01mif\u001b[39;00m grouper \u001b[38;5;129;01mis\u001b[39;00m \u001b[38;5;28;01mNone\u001b[39;00m:\n\u001b[0;32m    963\u001b[0m     \u001b[38;5;28;01mfrom\u001b[39;00m \u001b[38;5;21;01mpandas\u001b[39;00m\u001b[38;5;21;01m.\u001b[39;00m\u001b[38;5;21;01mcore\u001b[39;00m\u001b[38;5;21;01m.\u001b[39;00m\u001b[38;5;21;01mgroupby\u001b[39;00m\u001b[38;5;21;01m.\u001b[39;00m\u001b[38;5;21;01mgrouper\u001b[39;00m \u001b[38;5;28;01mimport\u001b[39;00m get_grouper\n\u001b[1;32m--> 965\u001b[0m     grouper, exclusions, obj \u001b[38;5;241m=\u001b[39m \u001b[43mget_grouper\u001b[49m\u001b[43m(\u001b[49m\n\u001b[0;32m    966\u001b[0m \u001b[43m        \u001b[49m\u001b[43mobj\u001b[49m\u001b[43m,\u001b[49m\n\u001b[0;32m    967\u001b[0m \u001b[43m        \u001b[49m\u001b[43mkeys\u001b[49m\u001b[43m,\u001b[49m\n\u001b[0;32m    968\u001b[0m \u001b[43m        \u001b[49m\u001b[43maxis\u001b[49m\u001b[38;5;241;43m=\u001b[39;49m\u001b[43maxis\u001b[49m\u001b[43m,\u001b[49m\n\u001b[0;32m    969\u001b[0m \u001b[43m        \u001b[49m\u001b[43mlevel\u001b[49m\u001b[38;5;241;43m=\u001b[39;49m\u001b[43mlevel\u001b[49m\u001b[43m,\u001b[49m\n\u001b[0;32m    970\u001b[0m \u001b[43m        \u001b[49m\u001b[43msort\u001b[49m\u001b[38;5;241;43m=\u001b[39;49m\u001b[43msort\u001b[49m\u001b[43m,\u001b[49m\n\u001b[0;32m    971\u001b[0m \u001b[43m        \u001b[49m\u001b[43mobserved\u001b[49m\u001b[38;5;241;43m=\u001b[39;49m\u001b[43mobserved\u001b[49m\u001b[43m,\u001b[49m\n\u001b[0;32m    972\u001b[0m \u001b[43m        \u001b[49m\u001b[43mmutated\u001b[49m\u001b[38;5;241;43m=\u001b[39;49m\u001b[38;5;28;43mself\u001b[39;49m\u001b[38;5;241;43m.\u001b[39;49m\u001b[43mmutated\u001b[49m\u001b[43m,\u001b[49m\n\u001b[0;32m    973\u001b[0m \u001b[43m        \u001b[49m\u001b[43mdropna\u001b[49m\u001b[38;5;241;43m=\u001b[39;49m\u001b[38;5;28;43mself\u001b[39;49m\u001b[38;5;241;43m.\u001b[39;49m\u001b[43mdropna\u001b[49m\u001b[43m,\u001b[49m\n\u001b[0;32m    974\u001b[0m \u001b[43m    \u001b[49m\u001b[43m)\u001b[49m\n\u001b[0;32m    976\u001b[0m \u001b[38;5;28mself\u001b[39m\u001b[38;5;241m.\u001b[39mobj \u001b[38;5;241m=\u001b[39m obj\n\u001b[0;32m    977\u001b[0m \u001b[38;5;28mself\u001b[39m\u001b[38;5;241m.\u001b[39maxis \u001b[38;5;241m=\u001b[39m obj\u001b[38;5;241m.\u001b[39m_get_axis_number(axis)\n",
      "File \u001b[1;32m~\\AppData\\Local\\Programs\\Python\\Python311\\Lib\\site-packages\\pandas\\core\\groupby\\grouper.py:888\u001b[0m, in \u001b[0;36mget_grouper\u001b[1;34m(obj, key, axis, level, sort, observed, mutated, validate, dropna)\u001b[0m\n\u001b[0;32m    886\u001b[0m         in_axis, level, gpr \u001b[38;5;241m=\u001b[39m \u001b[38;5;28;01mFalse\u001b[39;00m, gpr, \u001b[38;5;28;01mNone\u001b[39;00m\n\u001b[0;32m    887\u001b[0m     \u001b[38;5;28;01melse\u001b[39;00m:\n\u001b[1;32m--> 888\u001b[0m         \u001b[38;5;28;01mraise\u001b[39;00m \u001b[38;5;167;01mKeyError\u001b[39;00m(gpr)\n\u001b[0;32m    889\u001b[0m \u001b[38;5;28;01melif\u001b[39;00m \u001b[38;5;28misinstance\u001b[39m(gpr, Grouper) \u001b[38;5;129;01mand\u001b[39;00m gpr\u001b[38;5;241m.\u001b[39mkey \u001b[38;5;129;01mis\u001b[39;00m \u001b[38;5;129;01mnot\u001b[39;00m \u001b[38;5;28;01mNone\u001b[39;00m:\n\u001b[0;32m    890\u001b[0m     \u001b[38;5;66;03m# Add key to exclusions\u001b[39;00m\n\u001b[0;32m    891\u001b[0m     exclusions\u001b[38;5;241m.\u001b[39madd(gpr\u001b[38;5;241m.\u001b[39mkey)\n",
      "\u001b[1;31mKeyError\u001b[0m: 'rating_group'"
     ]
    }
   ],
   "source": [
    "dx = df.dropna().groupby([\"rating_group\", \"Year\"])[\"Year\"].value_counts()"
   ]
  },
  {
   "cell_type": "code",
   "execution_count": 32,
   "id": "dc46b2ab",
   "metadata": {},
   "outputs": [
    {
     "data": {
      "text/plain": [
       "<Axes: xlabel='Year', ylabel='Count'>"
      ]
     },
     "execution_count": 32,
     "metadata": {},
     "output_type": "execute_result"
    },
    {
     "data": {
      "image/png": "[encoded data removed]",
      "text/plain": [
       "<Figure size 640x480 with 1 Axes>"
      ]
     },
     "metadata": {},
     "output_type": "display_data"
    }
   ],
   "source": [
    "sns.histplot(df.Year)"
   ]
  },
  {
   "cell_type": "code",
   "execution_count": 28,
   "id": "e21526ed",
   "metadata": {},
   "outputs": [
    {
     "ename": "ValueError",
     "evalue": "Could not interpret value `Year` for parameter `x`",
     "output_type": "error",
     "traceback": [
      "\u001b[1;31m---------------------------------------------------------------------------\u001b[0m",
      "\u001b[1;31mValueError\u001b[0m                                Traceback (most recent call last)",
      "Cell \u001b[1;32mIn[28], line 2\u001b[0m\n\u001b[0;32m      1\u001b[0m \u001b[38;5;66;03m# Make a chart to show the number of films in each rating group per year\u001b[39;00m\n\u001b[1;32m----> 2\u001b[0m \u001b[43msns\u001b[49m\u001b[38;5;241;43m.\u001b[39;49m\u001b[43mhistplot\u001b[49m\u001b[43m(\u001b[49m\u001b[43mdata\u001b[49m\u001b[38;5;241;43m=\u001b[39;49m\u001b[38;5;124;43m'\u001b[39;49m\u001b[38;5;124;43mrating_group\u001b[39;49m\u001b[38;5;124;43m'\u001b[39;49m\u001b[43m,\u001b[49m\u001b[43m \u001b[49m\u001b[43mx\u001b[49m\u001b[38;5;241;43m=\u001b[39;49m\u001b[38;5;124;43m'\u001b[39;49m\u001b[38;5;124;43mYear\u001b[39;49m\u001b[38;5;124;43m'\u001b[39;49m\u001b[43m)\u001b[49m\n",
      "File \u001b[1;32m~\\AppData\\Local\\Programs\\Python\\Python311\\Lib\\site-packages\\seaborn\\distributions.py:1395\u001b[0m, in \u001b[0;36mhistplot\u001b[1;34m(data, x, y, hue, weights, stat, bins, binwidth, binrange, discrete, cumulative, common_bins, common_norm, multiple, element, fill, shrink, kde, kde_kws, line_kws, thresh, pthresh, pmax, cbar, cbar_ax, cbar_kws, palette, hue_order, hue_norm, color, log_scale, legend, ax, **kwargs)\u001b[0m\n\u001b[0;32m   1374\u001b[0m \u001b[38;5;28;01mdef\u001b[39;00m \u001b[38;5;21mhistplot\u001b[39m(\n\u001b[0;32m   1375\u001b[0m     data\u001b[38;5;241m=\u001b[39m\u001b[38;5;28;01mNone\u001b[39;00m, \u001b[38;5;241m*\u001b[39m,\n\u001b[0;32m   1376\u001b[0m     \u001b[38;5;66;03m# Vector variables\u001b[39;00m\n\u001b[1;32m   (...)\u001b[0m\n\u001b[0;32m   1392\u001b[0m     \u001b[38;5;241m*\u001b[39m\u001b[38;5;241m*\u001b[39mkwargs,\n\u001b[0;32m   1393\u001b[0m ):\n\u001b[1;32m-> 1395\u001b[0m     p \u001b[38;5;241m=\u001b[39m \u001b[43m_DistributionPlotter\u001b[49m\u001b[43m(\u001b[49m\n\u001b[0;32m   1396\u001b[0m \u001b[43m        \u001b[49m\u001b[43mdata\u001b[49m\u001b[38;5;241;43m=\u001b[39;49m\u001b[43mdata\u001b[49m\u001b[43m,\u001b[49m\n\u001b[0;32m   1397\u001b[0m \u001b[43m        \u001b[49m\u001b[43mvariables\u001b[49m\u001b[38;5;241;43m=\u001b[39;49m\u001b[43m_DistributionPlotter\u001b[49m\u001b[38;5;241;43m.\u001b[39;49m\u001b[43mget_semantics\u001b[49m\u001b[43m(\u001b[49m\u001b[38;5;28;43mlocals\u001b[39;49m\u001b[43m(\u001b[49m\u001b[43m)\u001b[49m\u001b[43m)\u001b[49m\n\u001b[0;32m   1398\u001b[0m \u001b[43m    \u001b[49m\u001b[43m)\u001b[49m\n\u001b[0;32m   1400\u001b[0m     p\u001b[38;5;241m.\u001b[39mmap_hue(palette\u001b[38;5;241m=\u001b[39mpalette, order\u001b[38;5;241m=\u001b[39mhue_order, norm\u001b[38;5;241m=\u001b[39mhue_norm)\n\u001b[0;32m   1402\u001b[0m     \u001b[38;5;28;01mif\u001b[39;00m ax \u001b[38;5;129;01mis\u001b[39;00m \u001b[38;5;28;01mNone\u001b[39;00m:\n",
      "File \u001b[1;32m~\\AppData\\Local\\Programs\\Python\\Python311\\Lib\\site-packages\\seaborn\\distributions.py:113\u001b[0m, in \u001b[0;36m_DistributionPlotter.__init__\u001b[1;34m(self, data, variables)\u001b[0m\n\u001b[0;32m    107\u001b[0m \u001b[38;5;28;01mdef\u001b[39;00m \u001b[38;5;21m__init__\u001b[39m(\n\u001b[0;32m    108\u001b[0m     \u001b[38;5;28mself\u001b[39m,\n\u001b[0;32m    109\u001b[0m     data\u001b[38;5;241m=\u001b[39m\u001b[38;5;28;01mNone\u001b[39;00m,\n\u001b[0;32m    110\u001b[0m     variables\u001b[38;5;241m=\u001b[39m{},\n\u001b[0;32m    111\u001b[0m ):\n\u001b[1;32m--> 113\u001b[0m     \u001b[38;5;28;43msuper\u001b[39;49m\u001b[43m(\u001b[49m\u001b[43m)\u001b[49m\u001b[38;5;241;43m.\u001b[39;49m\u001b[38;5;21;43m__init__\u001b[39;49m\u001b[43m(\u001b[49m\u001b[43mdata\u001b[49m\u001b[38;5;241;43m=\u001b[39;49m\u001b[43mdata\u001b[49m\u001b[43m,\u001b[49m\u001b[43m \u001b[49m\u001b[43mvariables\u001b[49m\u001b[38;5;241;43m=\u001b[39;49m\u001b[43mvariables\u001b[49m\u001b[43m)\u001b[49m\n",
      "File \u001b[1;32m~\\AppData\\Local\\Programs\\Python\\Python311\\Lib\\site-packages\\seaborn\\_oldcore.py:640\u001b[0m, in \u001b[0;36mVectorPlotter.__init__\u001b[1;34m(self, data, variables)\u001b[0m\n\u001b[0;32m    635\u001b[0m \u001b[38;5;66;03m# var_ordered is relevant only for categorical axis variables, and may\u001b[39;00m\n\u001b[0;32m    636\u001b[0m \u001b[38;5;66;03m# be better handled by an internal axis information object that tracks\u001b[39;00m\n\u001b[0;32m    637\u001b[0m \u001b[38;5;66;03m# such information and is set up by the scale_* methods. The analogous\u001b[39;00m\n\u001b[0;32m    638\u001b[0m \u001b[38;5;66;03m# information for numeric axes would be information about log scales.\u001b[39;00m\n\u001b[0;32m    639\u001b[0m \u001b[38;5;28mself\u001b[39m\u001b[38;5;241m.\u001b[39m_var_ordered \u001b[38;5;241m=\u001b[39m {\u001b[38;5;124m\"\u001b[39m\u001b[38;5;124mx\u001b[39m\u001b[38;5;124m\"\u001b[39m: \u001b[38;5;28;01mFalse\u001b[39;00m, \u001b[38;5;124m\"\u001b[39m\u001b[38;5;124my\u001b[39m\u001b[38;5;124m\"\u001b[39m: \u001b[38;5;28;01mFalse\u001b[39;00m}  \u001b[38;5;66;03m# alt., used DefaultDict\u001b[39;00m\n\u001b[1;32m--> 640\u001b[0m \u001b[38;5;28;43mself\u001b[39;49m\u001b[38;5;241;43m.\u001b[39;49m\u001b[43massign_variables\u001b[49m\u001b[43m(\u001b[49m\u001b[43mdata\u001b[49m\u001b[43m,\u001b[49m\u001b[43m \u001b[49m\u001b[43mvariables\u001b[49m\u001b[43m)\u001b[49m\n\u001b[0;32m    642\u001b[0m \u001b[38;5;28;01mfor\u001b[39;00m var, \u001b[38;5;28mcls\u001b[39m \u001b[38;5;129;01min\u001b[39;00m \u001b[38;5;28mself\u001b[39m\u001b[38;5;241m.\u001b[39m_semantic_mappings\u001b[38;5;241m.\u001b[39mitems():\n\u001b[0;32m    643\u001b[0m \n\u001b[0;32m    644\u001b[0m     \u001b[38;5;66;03m# Create the mapping function\u001b[39;00m\n\u001b[0;32m    645\u001b[0m     map_func \u001b[38;5;241m=\u001b[39m partial(\u001b[38;5;28mcls\u001b[39m\u001b[38;5;241m.\u001b[39mmap, plotter\u001b[38;5;241m=\u001b[39m\u001b[38;5;28mself\u001b[39m)\n",
      "File \u001b[1;32m~\\AppData\\Local\\Programs\\Python\\Python311\\Lib\\site-packages\\seaborn\\_oldcore.py:701\u001b[0m, in \u001b[0;36mVectorPlotter.assign_variables\u001b[1;34m(self, data, variables)\u001b[0m\n\u001b[0;32m    699\u001b[0m \u001b[38;5;28;01melse\u001b[39;00m:\n\u001b[0;32m    700\u001b[0m     \u001b[38;5;28mself\u001b[39m\u001b[38;5;241m.\u001b[39minput_format \u001b[38;5;241m=\u001b[39m \u001b[38;5;124m\"\u001b[39m\u001b[38;5;124mlong\u001b[39m\u001b[38;5;124m\"\u001b[39m\n\u001b[1;32m--> 701\u001b[0m     plot_data, variables \u001b[38;5;241m=\u001b[39m \u001b[38;5;28;43mself\u001b[39;49m\u001b[38;5;241;43m.\u001b[39;49m\u001b[43m_assign_variables_longform\u001b[49m\u001b[43m(\u001b[49m\n\u001b[0;32m    702\u001b[0m \u001b[43m        \u001b[49m\u001b[43mdata\u001b[49m\u001b[43m,\u001b[49m\u001b[43m \u001b[49m\u001b[38;5;241;43m*\u001b[39;49m\u001b[38;5;241;43m*\u001b[39;49m\u001b[43mvariables\u001b[49m\u001b[43m,\u001b[49m\n\u001b[0;32m    703\u001b[0m \u001b[43m    \u001b[49m\u001b[43m)\u001b[49m\n\u001b[0;32m    705\u001b[0m \u001b[38;5;28mself\u001b[39m\u001b[38;5;241m.\u001b[39mplot_data \u001b[38;5;241m=\u001b[39m plot_data\n\u001b[0;32m    706\u001b[0m \u001b[38;5;28mself\u001b[39m\u001b[38;5;241m.\u001b[39mvariables \u001b[38;5;241m=\u001b[39m variables\n",
      "File \u001b[1;32m~\\AppData\\Local\\Programs\\Python\\Python311\\Lib\\site-packages\\seaborn\\_oldcore.py:938\u001b[0m, in \u001b[0;36mVectorPlotter._assign_variables_longform\u001b[1;34m(self, data, **kwargs)\u001b[0m\n\u001b[0;32m    933\u001b[0m \u001b[38;5;28;01melif\u001b[39;00m \u001b[38;5;28misinstance\u001b[39m(val, (\u001b[38;5;28mstr\u001b[39m, \u001b[38;5;28mbytes\u001b[39m)):\n\u001b[0;32m    934\u001b[0m \n\u001b[0;32m    935\u001b[0m     \u001b[38;5;66;03m# This looks like a column name but we don't know what it means!\u001b[39;00m\n\u001b[0;32m    937\u001b[0m     err \u001b[38;5;241m=\u001b[39m \u001b[38;5;124mf\u001b[39m\u001b[38;5;124m\"\u001b[39m\u001b[38;5;124mCould not interpret value `\u001b[39m\u001b[38;5;132;01m{\u001b[39;00mval\u001b[38;5;132;01m}\u001b[39;00m\u001b[38;5;124m` for parameter `\u001b[39m\u001b[38;5;132;01m{\u001b[39;00mkey\u001b[38;5;132;01m}\u001b[39;00m\u001b[38;5;124m`\u001b[39m\u001b[38;5;124m\"\u001b[39m\n\u001b[1;32m--> 938\u001b[0m     \u001b[38;5;28;01mraise\u001b[39;00m \u001b[38;5;167;01mValueError\u001b[39;00m(err)\n\u001b[0;32m    940\u001b[0m \u001b[38;5;28;01melse\u001b[39;00m:\n\u001b[0;32m    941\u001b[0m \n\u001b[0;32m    942\u001b[0m     \u001b[38;5;66;03m# Otherwise, assume the value is itself data\u001b[39;00m\n\u001b[0;32m    943\u001b[0m \n\u001b[0;32m    944\u001b[0m     \u001b[38;5;66;03m# Raise when data object is present and a vector can't matched\u001b[39;00m\n\u001b[0;32m    945\u001b[0m     \u001b[38;5;28;01mif\u001b[39;00m \u001b[38;5;28misinstance\u001b[39m(data, pd\u001b[38;5;241m.\u001b[39mDataFrame) \u001b[38;5;129;01mand\u001b[39;00m \u001b[38;5;129;01mnot\u001b[39;00m \u001b[38;5;28misinstance\u001b[39m(val, pd\u001b[38;5;241m.\u001b[39mSeries):\n",
      "\u001b[1;31mValueError\u001b[0m: Could not interpret value `Year` for parameter `x`"
     ]
    }
   ],
   "source": [
    "# Make a chart to show the number of films in each rating group per year\n",
    "sns.histplot(data='rating_group', x='Year')"
   ]
  },
  {
   "cell_type": "markdown",
   "id": "f083278f",
   "metadata": {},
   "source": [
    "# Each year, which rating range(s) is the most concentrated? Does this match your results from the box and scatter plots above?"
   ]
  }
 ],
 "metadata": {
  "kernelspec": {
   "display_name": "Python 3 (ipykernel)",
   "language": "python",
   "name": "python3"
  },
  "language_info": {
   "codemirror_mode": {
    "name": "ipython",
    "version": 3
   },
   "file_extension": ".py",
   "mimetype": "text/x-python",
   "name": "python",
   "nbconvert_exporter": "python",
   "pygments_lexer": "ipython3",
   "version": "3.11.0"
  }
 },
 "nbformat": 4,
 "nbformat_minor": 5
}
