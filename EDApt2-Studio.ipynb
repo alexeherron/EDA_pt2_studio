{
 "cells": [
  {
   "cell_type": "markdown",
   "id": "2f470e67-1623-4416-b9c2-8367f7834a26",
   "metadata": {},
   "source": [
    "# EDA part 2 Studio\n",
    "\n",
    "## Further Analysis of IMDB movies\n",
    "\n",
    "In this studio, we're returning to this [tutorial](https://towardsdatascience.com/understand-the-data-with-univariate-and-multivariate-charts-and-plots-in-python-3b9fcd68cd8) as a reference guide for our EDA.\n",
    "You've seen the data set before and you've worked through similar kinds of questions with the heart disease dataset. \n",
    "\n",
    "Blocks have been created for your code and we've asked you to add more in some places.\n",
    "\n",
    "The dataset from [Kaggle](https://www.kaggle.com/PromptCloudHQ/imdb-data)"
   ]
  },
  {
   "cell_type": "markdown",
   "id": "34632281-1e15-44b1-a3e3-b82ddacb5cbd",
   "metadata": {},
   "source": [
    "### 1. Find the relative proportions of movie genres represented."
   ]
  },
  {
   "cell_type": "code",
   "execution_count": 58,
   "id": "070ebed9-c948-4821-9a24-67f0e3fe8fce",
   "metadata": {},
   "outputs": [
    {
     "data": {
      "text/html": [
       "<div>\n",
       "<style scoped>\n",
       "    .dataframe tbody tr th:only-of-type {\n",
       "        vertical-align: middle;\n",
       "    }\n",
       "\n",
       "    .dataframe tbody tr th {\n",
       "        vertical-align: top;\n",
       "    }\n",
       "\n",
       "    .dataframe thead th {\n",
       "        text-align: right;\n",
       "    }\n",
       "</style>\n",
       "<table border=\"1\" class=\"dataframe\">\n",
       "  <thead>\n",
       "    <tr style=\"text-align: right;\">\n",
       "      <th></th>\n",
       "      <th>Rank</th>\n",
       "      <th>Title</th>\n",
       "      <th>Genre</th>\n",
       "      <th>Description</th>\n",
       "      <th>Director</th>\n",
       "      <th>Actors</th>\n",
       "      <th>Year</th>\n",
       "      <th>Runtime (Minutes)</th>\n",
       "      <th>Rating</th>\n",
       "      <th>Votes</th>\n",
       "      <th>Revenue (Millions)</th>\n",
       "      <th>Metascore</th>\n",
       "    </tr>\n",
       "  </thead>\n",
       "  <tbody>\n",
       "    <tr>\n",
       "      <th>0</th>\n",
       "      <td>1</td>\n",
       "      <td>Guardians of the Galaxy</td>\n",
       "      <td>Action,Adventure,Sci-Fi</td>\n",
       "      <td>A group of intergalactic criminals are forced ...</td>\n",
       "      <td>James Gunn</td>\n",
       "      <td>Chris Pratt, Vin Diesel, Bradley Cooper, Zoe S...</td>\n",
       "      <td>2014</td>\n",
       "      <td>121</td>\n",
       "      <td>8.1</td>\n",
       "      <td>757074</td>\n",
       "      <td>333.13</td>\n",
       "      <td>76.0</td>\n",
       "    </tr>\n",
       "    <tr>\n",
       "      <th>1</th>\n",
       "      <td>2</td>\n",
       "      <td>Prometheus</td>\n",
       "      <td>Adventure,Mystery,Sci-Fi</td>\n",
       "      <td>Following clues to the origin of mankind, a te...</td>\n",
       "      <td>Ridley Scott</td>\n",
       "      <td>Noomi Rapace, Logan Marshall-Green, Michael Fa...</td>\n",
       "      <td>2012</td>\n",
       "      <td>124</td>\n",
       "      <td>7.0</td>\n",
       "      <td>485820</td>\n",
       "      <td>126.46</td>\n",
       "      <td>65.0</td>\n",
       "    </tr>\n",
       "    <tr>\n",
       "      <th>2</th>\n",
       "      <td>3</td>\n",
       "      <td>Split</td>\n",
       "      <td>Horror,Thriller</td>\n",
       "      <td>Three girls are kidnapped by a man with a diag...</td>\n",
       "      <td>M. Night Shyamalan</td>\n",
       "      <td>James McAvoy, Anya Taylor-Joy, Haley Lu Richar...</td>\n",
       "      <td>2016</td>\n",
       "      <td>117</td>\n",
       "      <td>7.3</td>\n",
       "      <td>157606</td>\n",
       "      <td>138.12</td>\n",
       "      <td>62.0</td>\n",
       "    </tr>\n",
       "    <tr>\n",
       "      <th>3</th>\n",
       "      <td>4</td>\n",
       "      <td>Sing</td>\n",
       "      <td>Animation,Comedy,Family</td>\n",
       "      <td>In a city of humanoid animals, a hustling thea...</td>\n",
       "      <td>Christophe Lourdelet</td>\n",
       "      <td>Matthew McConaughey,Reese Witherspoon, Seth Ma...</td>\n",
       "      <td>2016</td>\n",
       "      <td>108</td>\n",
       "      <td>7.2</td>\n",
       "      <td>60545</td>\n",
       "      <td>270.32</td>\n",
       "      <td>59.0</td>\n",
       "    </tr>\n",
       "    <tr>\n",
       "      <th>4</th>\n",
       "      <td>5</td>\n",
       "      <td>Suicide Squad</td>\n",
       "      <td>Action,Adventure,Fantasy</td>\n",
       "      <td>A secret government agency recruits some of th...</td>\n",
       "      <td>David Ayer</td>\n",
       "      <td>Will Smith, Jared Leto, Margot Robbie, Viola D...</td>\n",
       "      <td>2016</td>\n",
       "      <td>123</td>\n",
       "      <td>6.2</td>\n",
       "      <td>393727</td>\n",
       "      <td>325.02</td>\n",
       "      <td>40.0</td>\n",
       "    </tr>\n",
       "  </tbody>\n",
       "</table>\n",
       "</div>"
      ],
      "text/plain": [
       "   Rank                    Title                     Genre  \\\n",
       "0     1  Guardians of the Galaxy   Action,Adventure,Sci-Fi   \n",
       "1     2               Prometheus  Adventure,Mystery,Sci-Fi   \n",
       "2     3                    Split           Horror,Thriller   \n",
       "3     4                     Sing   Animation,Comedy,Family   \n",
       "4     5            Suicide Squad  Action,Adventure,Fantasy   \n",
       "\n",
       "                                         Description              Director  \\\n",
       "0  A group of intergalactic criminals are forced ...            James Gunn   \n",
       "1  Following clues to the origin of mankind, a te...          Ridley Scott   \n",
       "2  Three girls are kidnapped by a man with a diag...    M. Night Shyamalan   \n",
       "3  In a city of humanoid animals, a hustling thea...  Christophe Lourdelet   \n",
       "4  A secret government agency recruits some of th...            David Ayer   \n",
       "\n",
       "                                              Actors  Year  Runtime (Minutes)  \\\n",
       "0  Chris Pratt, Vin Diesel, Bradley Cooper, Zoe S...  2014                121   \n",
       "1  Noomi Rapace, Logan Marshall-Green, Michael Fa...  2012                124   \n",
       "2  James McAvoy, Anya Taylor-Joy, Haley Lu Richar...  2016                117   \n",
       "3  Matthew McConaughey,Reese Witherspoon, Seth Ma...  2016                108   \n",
       "4  Will Smith, Jared Leto, Margot Robbie, Viola D...  2016                123   \n",
       "\n",
       "   Rating   Votes  Revenue (Millions)  Metascore  \n",
       "0     8.1  757074              333.13       76.0  \n",
       "1     7.0  485820              126.46       65.0  \n",
       "2     7.3  157606              138.12       62.0  \n",
       "3     7.2   60545              270.32       59.0  \n",
       "4     6.2  393727              325.02       40.0  "
      ]
     },
     "execution_count": 58,
     "metadata": {},
     "output_type": "execute_result"
    },
    {
     "data": {
      "text/html": [
       "<div>\n",
       "<style scoped>\n",
       "    .dataframe tbody tr th:only-of-type {\n",
       "        vertical-align: middle;\n",
       "    }\n",
       "\n",
       "    .dataframe tbody tr th {\n",
       "        vertical-align: top;\n",
       "    }\n",
       "\n",
       "    .dataframe thead th {\n",
       "        text-align: right;\n",
       "    }\n",
       "</style>\n",
       "<table border=\"1\" class=\"dataframe\">\n",
       "  <thead>\n",
       "    <tr style=\"text-align: right;\">\n",
       "      <th></th>\n",
       "      <th>Rank</th>\n",
       "      <th>Title</th>\n",
       "      <th>Genre</th>\n",
       "      <th>Description</th>\n",
       "      <th>Director</th>\n",
       "      <th>Actors</th>\n",
       "      <th>Year</th>\n",
       "      <th>Runtime (Minutes)</th>\n",
       "      <th>Rating</th>\n",
       "      <th>Votes</th>\n",
       "      <th>Revenue (Millions)</th>\n",
       "      <th>Metascore</th>\n",
       "    </tr>\n",
       "  </thead>\n",
       "  <tbody>\n",
       "    <tr>\n",
       "      <th>0</th>\n",
       "      <td>1</td>\n",
       "      <td>Guardians of the Galaxy</td>\n",
       "      <td>Action,Adventure,Sci-Fi</td>\n",
       "      <td>A group of intergalactic criminals are forced ...</td>\n",
       "      <td>James Gunn</td>\n",
       "      <td>Chris Pratt, Vin Diesel, Bradley Cooper, Zoe S...</td>\n",
       "      <td>2014</td>\n",
       "      <td>121</td>\n",
       "      <td>8.1</td>\n",
       "      <td>757074</td>\n",
       "      <td>333.13</td>\n",
       "      <td>76.0</td>\n",
       "    </tr>\n",
       "    <tr>\n",
       "      <th>1</th>\n",
       "      <td>2</td>\n",
       "      <td>Prometheus</td>\n",
       "      <td>Adventure,Mystery,Sci-Fi</td>\n",
       "      <td>Following clues to the origin of mankind, a te...</td>\n",
       "      <td>Ridley Scott</td>\n",
       "      <td>Noomi Rapace, Logan Marshall-Green, Michael Fa...</td>\n",
       "      <td>2012</td>\n",
       "      <td>124</td>\n",
       "      <td>7.0</td>\n",
       "      <td>485820</td>\n",
       "      <td>126.46</td>\n",
       "      <td>65.0</td>\n",
       "    </tr>\n",
       "    <tr>\n",
       "      <th>2</th>\n",
       "      <td>3</td>\n",
       "      <td>Split</td>\n",
       "      <td>Horror,Thriller</td>\n",
       "      <td>Three girls are kidnapped by a man with a diag...</td>\n",
       "      <td>M. Night Shyamalan</td>\n",
       "      <td>James McAvoy, Anya Taylor-Joy, Haley Lu Richar...</td>\n",
       "      <td>2016</td>\n",
       "      <td>117</td>\n",
       "      <td>7.3</td>\n",
       "      <td>157606</td>\n",
       "      <td>138.12</td>\n",
       "      <td>62.0</td>\n",
       "    </tr>\n",
       "    <tr>\n",
       "      <th>3</th>\n",
       "      <td>4</td>\n",
       "      <td>Sing</td>\n",
       "      <td>Animation,Comedy,Family</td>\n",
       "      <td>In a city of humanoid animals, a hustling thea...</td>\n",
       "      <td>Christophe Lourdelet</td>\n",
       "      <td>Matthew McConaughey,Reese Witherspoon, Seth Ma...</td>\n",
       "      <td>2016</td>\n",
       "      <td>108</td>\n",
       "      <td>7.2</td>\n",
       "      <td>60545</td>\n",
       "      <td>270.32</td>\n",
       "      <td>59.0</td>\n",
       "    </tr>\n",
       "    <tr>\n",
       "      <th>4</th>\n",
       "      <td>5</td>\n",
       "      <td>Suicide Squad</td>\n",
       "      <td>Action,Adventure,Fantasy</td>\n",
       "      <td>A secret government agency recruits some of th...</td>\n",
       "      <td>David Ayer</td>\n",
       "      <td>Will Smith, Jared Leto, Margot Robbie, Viola D...</td>\n",
       "      <td>2016</td>\n",
       "      <td>123</td>\n",
       "      <td>6.2</td>\n",
       "      <td>393727</td>\n",
       "      <td>325.02</td>\n",
       "      <td>40.0</td>\n",
       "    </tr>\n",
       "  </tbody>\n",
       "</table>\n",
       "</div>"
      ],
      "text/plain": [
       "   Rank                    Title                     Genre  \\\n",
       "0     1  Guardians of the Galaxy   Action,Adventure,Sci-Fi   \n",
       "1     2               Prometheus  Adventure,Mystery,Sci-Fi   \n",
       "2     3                    Split           Horror,Thriller   \n",
       "3     4                     Sing   Animation,Comedy,Family   \n",
       "4     5            Suicide Squad  Action,Adventure,Fantasy   \n",
       "\n",
       "                                         Description              Director  \\\n",
       "0  A group of intergalactic criminals are forced ...            James Gunn   \n",
       "1  Following clues to the origin of mankind, a te...          Ridley Scott   \n",
       "2  Three girls are kidnapped by a man with a diag...    M. Night Shyamalan   \n",
       "3  In a city of humanoid animals, a hustling thea...  Christophe Lourdelet   \n",
       "4  A secret government agency recruits some of th...            David Ayer   \n",
       "\n",
       "                                              Actors  Year  Runtime (Minutes)  \\\n",
       "0  Chris Pratt, Vin Diesel, Bradley Cooper, Zoe S...  2014                121   \n",
       "1  Noomi Rapace, Logan Marshall-Green, Michael Fa...  2012                124   \n",
       "2  James McAvoy, Anya Taylor-Joy, Haley Lu Richar...  2016                117   \n",
       "3  Matthew McConaughey,Reese Witherspoon, Seth Ma...  2016                108   \n",
       "4  Will Smith, Jared Leto, Margot Robbie, Viola D...  2016                123   \n",
       "\n",
       "   Rating   Votes  Revenue (Millions)  Metascore  \n",
       "0     8.1  757074              333.13       76.0  \n",
       "1     7.0  485820              126.46       65.0  \n",
       "2     7.3  157606              138.12       62.0  \n",
       "3     7.2   60545              270.32       59.0  \n",
       "4     6.2  393727              325.02       40.0  "
      ]
     },
     "execution_count": 58,
     "metadata": {},
     "output_type": "execute_result"
    }
   ],
   "source": [
    "# import dependencies \n",
    "import pandas as pd\n",
    "import matplotlib.pyplot as plt\n",
    "import seaborn as sns\n",
    "import numpy as np\n",
    "\n",
    "# create your data variabe using .read_csv \n",
    "df = pd.read_csv('IMDB-Movie-Data.csv')\n",
    "\n",
    "# get reaquainted with the data by viewing the first 5 rows\n",
    "df.head()"
   ]
  },
  {
   "cell_type": "code",
   "execution_count": 59,
   "id": "e8f7f6c5",
   "metadata": {},
   "outputs": [
    {
     "data": {
      "text/plain": [
       "Index(['Rank', 'Title', 'Genre', 'Description', 'Director', 'Actors', 'Year',\n",
       "       'Runtime (Minutes)', 'Rating', 'Votes', 'Revenue (Millions)',\n",
       "       'Metascore'],\n",
       "      dtype='object')"
      ]
     },
     "execution_count": 59,
     "metadata": {},
     "output_type": "execute_result"
    }
   ],
   "source": [
    "# list the column names\n",
    "df.columns"
   ]
  },
  {
   "cell_type": "code",
   "execution_count": 60,
   "id": "dfd297f7",
   "metadata": {},
   "outputs": [
    {
     "name": "stdout",
     "output_type": "stream",
     "text": [
      "count                        1000\n",
      "unique                        207\n",
      "top       Action,Adventure,Sci-Fi\n",
      "freq                           50\n",
      "Name: Genre, dtype: object\n"
     ]
    }
   ],
   "source": [
    "# preview the contents of the 'Genre' column only\n",
    "print(df['Genre'].describe())"
   ]
  },
  {
   "cell_type": "code",
   "execution_count": null,
   "id": "7f3d90fd",
   "metadata": {},
   "outputs": [
    {
     "data": {
      "text/plain": [
       "array(['Action,Adventure,Sci-Fi', 'Adventure,Mystery,Sci-Fi',\n",
       "       'Horror,Thriller', 'Animation,Comedy,Family',\n",
       "       'Action,Adventure,Fantasy', 'Comedy,Drama,Music', 'Comedy',\n",
       "       'Action,Adventure,Biography', 'Adventure,Drama,Romance',\n",
       "       'Adventure,Family,Fantasy', 'Biography,Drama,History',\n",
       "       'Animation,Adventure,Comedy', 'Action,Comedy,Drama',\n",
       "       'Action,Thriller', 'Biography,Drama', 'Drama,Mystery,Sci-Fi',\n",
       "       'Adventure,Drama,Thriller', 'Drama', 'Crime,Drama,Horror',\n",
       "       'Action,Adventure,Drama', 'Drama,Thriller',\n",
       "       'Action,Adventure,Comedy', 'Action,Horror,Sci-Fi',\n",
       "       'Adventure,Drama,Sci-Fi', 'Action,Adventure,Western',\n",
       "       'Comedy,Drama', 'Horror', 'Adventure,Drama,Fantasy',\n",
       "       'Action,Crime,Thriller', 'Action,Crime,Drama',\n",
       "       'Adventure,Drama,History', 'Crime,Horror,Thriller',\n",
       "       'Drama,Romance', 'Comedy,Drama,Romance', 'Horror,Mystery,Thriller',\n",
       "       'Crime,Drama,Mystery', 'Drama,Romance,Thriller',\n",
       "       'Drama,History,Thriller', 'Action,Drama,Thriller', 'Drama,History',\n",
       "       'Action,Drama,Romance', 'Drama,Fantasy', 'Action,Sci-Fi',\n",
       "       'Adventure,Drama,War', 'Action,Comedy,Fantasy',\n",
       "       'Biography,Comedy,Crime', 'Crime,Drama', 'Comedy,Crime,Drama',\n",
       "       'Action,Comedy,Crime', 'Animation,Drama,Fantasy',\n",
       "       'Horror,Mystery,Sci-Fi', 'Drama,Mystery,Thriller',\n",
       "       'Crime,Drama,Thriller', 'Biography,Crime,Drama',\n",
       "       'Crime,Mystery,Thriller', 'Action,Horror,Thriller',\n",
       "       'Romance,Sci-Fi', 'Action,Fantasy,War', 'Action,Biography,Drama',\n",
       "       'Drama,Horror,Mystery', 'Adventure,Drama,Family',\n",
       "       'Adventure,Comedy,Romance', 'Action', 'Adventure,Crime,Mystery',\n",
       "       'Comedy,Family,Musical', 'Adventure,Comedy,Drama',\n",
       "       'Drama,Horror,Thriller', 'Drama,Music', 'Mystery,Thriller',\n",
       "       'Mystery,Thriller,Western', 'Comedy,Family',\n",
       "       'Biography,Comedy,Drama', 'Drama,Western', 'Drama,Mystery,Romance',\n",
       "       'Action,Drama,Mystery', 'Action,Adventure,Crime',\n",
       "       'Adventure,Sci-Fi,Thriller', 'Action,Comedy,Mystery',\n",
       "       'Thriller,War', 'Action,Adventure,Thriller',\n",
       "       'Drama,Fantasy,Romance', 'Action,Drama,History',\n",
       "       'Animation,Adventure,Family', 'Adventure,Horror',\n",
       "       'Drama,Romance,Sci-Fi', 'Action,Adventure,Family', 'Action,Comedy',\n",
       "       'Comedy,Romance', 'Horror,Mystery', 'Drama,Family,Fantasy',\n",
       "       'Sci-Fi', 'Drama,War', 'Drama,Fantasy,Horror',\n",
       "       'Crime,Drama,History', 'Horror,Sci-Fi,Thriller',\n",
       "       'Action,Drama,Sport', 'Adventure,Biography,Drama',\n",
       "       'Biography,Drama,Thriller', 'Action,Adventure,Mystery',\n",
       "       'Drama,Horror', 'Comedy,Crime', 'Drama,Fantasy,War',\n",
       "       'Action,Adventure,Romance', 'Action,Drama,War',\n",
       "       'Drama,Musical,Romance', 'Drama,Sci-Fi,Thriller',\n",
       "       'Action,Drama,Sci-Fi', 'Drama,Sci-Fi', 'Adventure,Fantasy',\n",
       "       'Thriller', 'Biography,Drama,Romance', 'Action,Adventure',\n",
       "       'Action,Fantasy', 'Action,Drama,Horror', 'Comedy,Music,Romance',\n",
       "       'Biography,Drama,Sport', 'Action,Horror', 'Comedy,Horror,Thriller',\n",
       "       'Crime,Drama,Music', 'Action,Sci-Fi,Thriller',\n",
       "       'Drama,Horror,Sci-Fi', 'Drama,Sport', 'Comedy,Horror',\n",
       "       'Comedy,Fantasy,Romance', 'Comedy,Fantasy', 'Comedy,Drama,Fantasy',\n",
       "       'Adventure,Comedy,Horror', 'Comedy,Mystery',\n",
       "       'Action,Mystery,Sci-Fi', 'Action,Crime,Fantasy',\n",
       "       'Comedy,Fantasy,Horror', 'Animation,Action,Adventure',\n",
       "       'Action,Comedy,Family', 'Comedy,Sci-Fi', 'Action,Biography,Crime',\n",
       "       'Adventure,Comedy', 'Comedy,Music', 'Comedy,Drama,Horror',\n",
       "       'Action,Horror,Romance', 'Action,Drama,Fantasy',\n",
       "       'Action,Mystery,Thriller', 'Action,Adventure,Horror',\n",
       "       'Animation,Family,Fantasy', 'Adventure,Horror,Mystery',\n",
       "       'Action,Horror,Mystery', 'Adventure,Comedy,Family',\n",
       "       'Action,Crime,Mystery', 'Comedy,Drama,Family',\n",
       "       'Action,Crime,Sport', 'Mystery,Sci-Fi,Thriller', 'Sci-Fi,Thriller',\n",
       "       'Adventure,Drama,Horror', 'Biography,History,Thriller',\n",
       "       'Adventure,Comedy,Sci-Fi', 'Fantasy,Horror',\n",
       "       'Action,Fantasy,Thriller', 'Comedy,Romance,Sport',\n",
       "       'Animation,Action,Comedy', 'Drama,Fantasy,Thriller',\n",
       "       'Action,Comedy,Romance', 'Action,Fantasy,Horror',\n",
       "       'Mystery,Romance,Sci-Fi', 'Comedy,Drama,Thriller',\n",
       "       'Comedy,Western', 'Drama,History,War', 'Fantasy,Horror,Thriller',\n",
       "       'Drama,Horror,Musical', 'Drama,Family', 'Romance,Sci-Fi,Thriller',\n",
       "       'Animation,Fantasy', 'Drama,Mystery,War', 'Action,Drama,Family',\n",
       "       'Adventure,Drama,Western', 'Drama,Music,Romance',\n",
       "       'Comedy,Romance,Western', 'Adventure,Drama', 'Drama,Thriller,War',\n",
       "       'Drama,Fantasy,Mystery', 'Comedy,Crime,Thriller',\n",
       "       'Animation,Comedy,Drama', 'Action,Comedy,Sci-Fi',\n",
       "       'Drama,Romance,War', 'Adventure,Fantasy,Mystery',\n",
       "       'Mystery,Romance,Thriller', 'Biography,Drama,Mystery',\n",
       "       'Animation,Drama,Romance', 'Comedy,Horror,Romance',\n",
       "       'Action,Thriller,War', 'Action,Comedy,Horror',\n",
       "       'Action,Crime,Sci-Fi', 'Crime,Thriller', 'Comedy,Horror,Sci-Fi',\n",
       "       'Crime,Drama,Fantasy', 'Drama,Fantasy,Music',\n",
       "       'Action,Comedy,Sport', 'Fantasy,Mystery,Thriller', 'Adventure',\n",
       "       'Adventure,Biography', 'Adventure,Biography,Crime',\n",
       "       'Comedy,Drama,Musical', 'Comedy,Family,Romance',\n",
       "       'Biography,Drama,Family', 'Drama,Fantasy,Musical',\n",
       "       'Adventure,Family', 'Adventure,Comedy,Fantasy',\n",
       "       'Drama,Family,Music', 'Comedy,Family,Fantasy'], dtype=object)"
      ]
     },
     "execution_count": 61,
     "metadata": {},
     "output_type": "execute_result"
    }
   ],
   "source": [
    "df['Genre'].unique()"
   ]
  },
  {
   "cell_type": "code",
   "execution_count": null,
   "id": "219a2ac1",
   "metadata": {},
   "outputs": [],
   "source": [
    "# using the .value_counts() method, explore the number of each genre type in the series\n",
    "# assign the result to a variable called genre_counts\n",
    "genre_counts = df.Genre.value_counts()\n",
    "print(genre_counts)"
   ]
  },
  {
   "cell_type": "code",
   "execution_count": null,
   "id": "4adcdd70",
   "metadata": {},
   "outputs": [],
   "source": [
    "# Find the proportions of each genre by dividing your variable assigned above by the sum of \n",
    "# all of the unique genre values\n",
    "# assign this to the variable genre_proportions\n",
    "genre_proportions = (genre_counts/genre_counts.sum())*100\n",
    "print(genre_proportions)"
   ]
  },
  {
   "cell_type": "code",
   "execution_count": null,
   "id": "dd24f821",
   "metadata": {},
   "outputs": [],
   "source": [
    "# the length of results a above is too long to know if there are any null values present\n",
    "# we can run .isna() on the series and collect the sum to check if there are missing values\n",
    "# uncomment the line below to see the results\n",
    "(df['Genre'].isna().sum())\n"
   ]
  },
  {
   "cell_type": "code",
   "execution_count": 65,
   "id": "77904b7c",
   "metadata": {},
   "outputs": [],
   "source": [
    "# use .head() on genre_proportions to get a better look at the top 20 \n",
    "# remember: .head() can take a parameter to display more than 5 entries \n",
    "genre_proportions.head(20)"
   ]
  },
  {
   "cell_type": "markdown",
   "id": "9fd9e484",
   "metadata": {},
   "source": [
    "### 2. Find the minimum, maximum, average, and standard deviation of revenue data."
   ]
  },
  {
   "cell_type": "code",
   "execution_count": 66,
   "id": "7042dfa6",
   "metadata": {},
   "outputs": [
    {
     "data": {
      "text/plain": [
       "count    872.000000\n",
       "mean      82.956376\n",
       "std      103.253540\n",
       "min        0.000000\n",
       "25%       13.270000\n",
       "50%       47.985000\n",
       "75%      113.715000\n",
       "max      936.630000\n",
       "Name: Revenue (Millions), dtype: float64"
      ]
     },
     "execution_count": 66,
     "metadata": {},
     "output_type": "execute_result"
    }
   ],
   "source": [
    "# use .describe() on the revenue column to see some summary statistics of the revenue data present\n",
    "df['Revenue (Millions)'].describe()"
   ]
  },
  {
   "cell_type": "code",
   "execution_count": 67,
   "id": "9f7d6224",
   "metadata": {},
   "outputs": [
    {
     "name": "stdout",
     "output_type": "stream",
     "text": [
      "128\n"
     ]
    }
   ],
   "source": [
    "print(df['Revenue (Millions)'].isna().sum())\n",
    "#128 out of 872 values are N/A. I wonder how many are 0s, and if they're valid. Surely some movies didn't make $0!!"
   ]
  },
  {
   "cell_type": "code",
   "execution_count": 69,
   "id": "b66e8ab8",
   "metadata": {},
   "outputs": [
    {
     "name": "stdout",
     "output_type": "stream",
     "text": [
      "1\n"
     ]
    }
   ],
   "source": [
    "print((df['Revenue (Millions)'] == 0).sum())"
   ]
  },
  {
   "cell_type": "code",
   "execution_count": 74,
   "id": "075ae84a",
   "metadata": {},
   "outputs": [
    {
     "name": "stdout",
     "output_type": "stream",
     "text": [
      "0      333.130000\n",
      "1      126.460000\n",
      "2      138.120000\n",
      "3      270.320000\n",
      "4      325.020000\n",
      "          ...    \n",
      "995     82.956376\n",
      "996     17.540000\n",
      "997     58.010000\n",
      "998     82.956376\n",
      "999     19.640000\n",
      "Name: Rev, Length: 1000, dtype: float64\n"
     ]
    }
   ],
   "source": [
    "#Nice. Let's go ahead and insert the mean into all of the N/A values for revenue. I'll remove the 0 value, too.\n",
    "df['Rev'] = df.Rev.fillna(82.956376)\n",
    "print(df['Rev'])"
   ]
  },
  {
   "cell_type": "markdown",
   "id": "de436940",
   "metadata": {},
   "source": [
    "Do we have any missing revenue entries?\n",
    "Add a new code cell below this and use ``.isna()`` on the column to check.\n",
    "Ask yourself: does this affect the results of ``.describe()``?\n",
    "Hint: look at the count result above and compare that with the ``Length`` returned with ``.isna()``"
   ]
  },
  {
   "cell_type": "markdown",
   "id": "d50f3ba9",
   "metadata": {},
   "source": [
    "### 3. Make a plot distribution of the revenue data.\n"
   ]
  },
  {
   "cell_type": "code",
   "execution_count": 71,
   "id": "e8501802",
   "metadata": {},
   "outputs": [
    {
     "data": {
      "text/plain": [
       "Index(['Rank', 'Title', 'Genre', 'Description', 'Director', 'Actors', 'Year',\n",
       "       'Runtime (Minutes)', 'Rating', 'Votes', 'Revenue (Millions)',\n",
       "       'Metascore'],\n",
       "      dtype='object')"
      ]
     },
     "execution_count": 71,
     "metadata": {},
     "output_type": "execute_result"
    }
   ],
   "source": [
    "df.columns"
   ]
  },
  {
   "cell_type": "code",
   "execution_count": 72,
   "id": "f50bcff1",
   "metadata": {},
   "outputs": [],
   "source": [
    "df = df.rename(columns={'Revenue (Millions)' : 'Rev'})"
   ]
  },
  {
   "cell_type": "code",
   "execution_count": 73,
   "id": "aac63c7d",
   "metadata": {},
   "outputs": [
    {
     "data": {
      "text/plain": [
       "Index(['Rank', 'Title', 'Genre', 'Description', 'Director', 'Actors', 'Year',\n",
       "       'Runtime (Minutes)', 'Rating', 'Votes', 'Rev', 'Metascore'],\n",
       "      dtype='object')"
      ]
     },
     "execution_count": 73,
     "metadata": {},
     "output_type": "execute_result"
    }
   ],
   "source": [
    "df.columns"
   ]
  },
  {
   "cell_type": "code",
   "execution_count": 75,
   "id": "fd50cc47",
   "metadata": {},
   "outputs": [
    {
     "data": {
      "text/plain": [
       "<Axes: xlabel='Rev', ylabel='Count'>"
      ]
     },
     "execution_count": 75,
     "metadata": {},
     "output_type": "execute_result"
    },
    {
     "data": {
      "image/png": "[encoded data removed]",
      "text/plain": [
       "<Figure size 640x480 with 1 Axes>"
      ]
     },
     "metadata": {},
     "output_type": "display_data"
    }
   ],
   "source": [
    "# use sns.histplot to get a birds eye view of the revenue distribution\n",
    "# Note: the refernce article plots Cholesterol data with ``distplot`` but we recieve \n",
    "# a deprecation warning so we've switched it with ``histplot``. The resulting graph is \n",
    "# virtually the same.\n",
    "sns.histplot(data=df, x='Rev')"
   ]
  },
  {
   "cell_type": "markdown",
   "id": "8afe2aaf",
   "metadata": {},
   "source": [
    "Look back at your ``.describe()`` results above. Does this plotted distribution match the results of the 25%, 50%, and 75% percentile data?\n",
    "\n",
    "Create another code cell below this and make another histplot but with only the top 20 items in the revenue column. Run ``.describe()`` on the top 20 to again check the percentile distributions with what the graph displays."
   ]
  },
  {
   "cell_type": "code",
   "execution_count": 97,
   "id": "fd3802e2",
   "metadata": {},
   "outputs": [
    {
     "name": "stdout",
     "output_type": "stream",
     "text": [
      "     Rank                                         Title  \\\n",
      "50     51    Star Wars: Episode VII - The Force Awakens   \n",
      "87     88                                        Avatar   \n",
      "85     86                                Jurassic World   \n",
      "76     77                                  The Avengers   \n",
      "54     55                               The Dark Knight   \n",
      "12     13                                     Rogue One   \n",
      "119   120                                  Finding Dory   \n",
      "94     95                       Avengers: Age of Ultron   \n",
      "124   125                         The Dark Knight Rises   \n",
      "578   579               The Hunger Games: Catching Fire   \n",
      "78     79    Pirates of the Caribbean: Dead Man's Chest   \n",
      "688   689                                   Toy Story 3   \n",
      "279   280                                Iron Man Three   \n",
      "35     36                    Captain America: Civil War   \n",
      "151   152                              The Hunger Games   \n",
      "710   711           Transformers: Revenge of the Fallen   \n",
      "174   175                                        Frozen   \n",
      "114   115  Harry Potter and the Deathly Hallows: Part 2   \n",
      "15     16                       The Secret Life of Pets   \n",
      "797   798                               Despicable Me 2   \n",
      "\n",
      "                          Genre  \\\n",
      "50     Action,Adventure,Fantasy   \n",
      "87     Action,Adventure,Fantasy   \n",
      "85      Action,Adventure,Sci-Fi   \n",
      "76                Action,Sci-Fi   \n",
      "54           Action,Crime,Drama   \n",
      "12      Action,Adventure,Sci-Fi   \n",
      "119  Animation,Adventure,Comedy   \n",
      "94      Action,Adventure,Sci-Fi   \n",
      "124             Action,Thriller   \n",
      "578    Action,Adventure,Mystery   \n",
      "78     Action,Adventure,Fantasy   \n",
      "688  Animation,Adventure,Comedy   \n",
      "279     Action,Adventure,Sci-Fi   \n",
      "35      Action,Adventure,Sci-Fi   \n",
      "151   Adventure,Sci-Fi,Thriller   \n",
      "710     Action,Adventure,Sci-Fi   \n",
      "174  Animation,Adventure,Comedy   \n",
      "114     Adventure,Drama,Fantasy   \n",
      "15   Animation,Adventure,Comedy   \n",
      "797  Animation,Adventure,Comedy   \n",
      "\n",
      "                                           Description           Director  \\\n",
      "50   Three decades after the defeat of the Galactic...        J.J. Abrams   \n",
      "87   A paraplegic marine dispatched to the moon Pan...      James Cameron   \n",
      "85   A new theme park, built on the original site o...    Colin Trevorrow   \n",
      "76   Earth's mightiest heroes must come together an...        Joss Whedon   \n",
      "54   When the menace known as the Joker wreaks havo...  Christopher Nolan   \n",
      "12   The Rebel Alliance makes a risky move to steal...     Gareth Edwards   \n",
      "119  The friendly but forgetful blue tang fish, Dor...     Andrew Stanton   \n",
      "94   When Tony Stark and Bruce Banner try to jump-s...        Joss Whedon   \n",
      "124  Eight years after the Joker's reign of anarchy...  Christopher Nolan   \n",
      "578  Katniss Everdeen and Peeta Mellark become targ...   Francis Lawrence   \n",
      "78   Jack Sparrow races to recover the heart of Dav...     Gore Verbinski   \n",
      "688  The toys are mistakenly delivered to a day-car...        Lee Unkrich   \n",
      "279  When Tony Stark's world is torn apart by a for...        Shane Black   \n",
      "35   Political interference in the Avengers' activi...      Anthony Russo   \n",
      "151  Katniss Everdeen voluntarily takes her younger...          Gary Ross   \n",
      "710  Sam Witwicky leaves the Autobots behind for a ...        Michael Bay   \n",
      "174  When the newly crowned Queen Elsa accidentally...         Chris Buck   \n",
      "114  Harry, Ron and Hermione search for Voldemort's...        David Yates   \n",
      "15   The quiet life of a terrier named Max is upend...       Chris Renaud   \n",
      "797  When Gru, the world's most super-bad turned su...      Pierre Coffin   \n",
      "\n",
      "                                                Actors  Year  \\\n",
      "50   Daisy Ridley, John Boyega, Oscar Isaac, Domhna...  2015   \n",
      "87   Sam Worthington, Zoe Saldana, Sigourney Weaver...  2009   \n",
      "85   Chris Pratt, Bryce Dallas Howard, Ty Simpkins,...  2015   \n",
      "76   Robert Downey Jr., Chris Evans, Scarlett Johan...  2012   \n",
      "54   Christian Bale, Heath Ledger, Aaron Eckhart,Mi...  2008   \n",
      "12   Felicity Jones, Diego Luna, Alan Tudyk, Donnie...  2016   \n",
      "119  Ellen DeGeneres, Albert Brooks,Ed O'Neill, Kai...  2016   \n",
      "94   Robert Downey Jr., Chris Evans, Mark Ruffalo, ...  2015   \n",
      "124  Christian Bale, Tom Hardy, Anne Hathaway,Gary ...  2012   \n",
      "578  Jennifer Lawrence, Josh Hutcherson, Liam Hemsw...  2013   \n",
      "78   Johnny Depp, Orlando Bloom, Keira Knightley, J...  2006   \n",
      "688      Tom Hanks, Tim Allen, Joan Cusack, Ned Beatty  2010   \n",
      "279  Robert Downey Jr., Guy Pearce, Gwyneth Paltrow...  2013   \n",
      "35   Chris Evans, Robert Downey Jr.,Scarlett Johans...  2016   \n",
      "151  Jennifer Lawrence, Josh Hutcherson, Liam Hemsw...  2012   \n",
      "710  Shia LaBeouf, Megan Fox, Josh Duhamel, Tyrese ...  2009   \n",
      "174  Kristen Bell, Idina Menzel, Jonathan Groff, Jo...  2013   \n",
      "114  Daniel Radcliffe, Emma Watson, Rupert Grint, M...  2011   \n",
      "15   Louis C.K., Eric Stonestreet, Kevin Hart, Lake...  2016   \n",
      "797  Steve Carell, Kristen Wiig, Benjamin Bratt, Mi...  2013   \n",
      "\n",
      "     Runtime (Minutes)  Rating    Votes     Rev  Metascore RatingGenres  \n",
      "50                 136     8.1   661608  936.63       81.0       (8, 9]  \n",
      "87                 162     7.8   935408  760.51       83.0       (7, 8]  \n",
      "85                 124     7.0   455169  652.18       59.0       (6, 7]  \n",
      "76                 143     8.1  1045588  623.28       69.0       (8, 9]  \n",
      "54                 152     9.0  1791916  533.32       82.0       (8, 9]  \n",
      "12                 133     7.9   323118  532.17       65.0       (7, 8]  \n",
      "119                 97     7.4   157026  486.29       77.0       (7, 8]  \n",
      "94                 141     7.4   516895  458.99       66.0       (7, 8]  \n",
      "124                164     8.5  1222645  448.13       78.0       (8, 9]  \n",
      "578                146     7.6   525646  424.65       76.0       (7, 8]  \n",
      "78                 151     7.3   552027  423.03       53.0       (7, 8]  \n",
      "688                103     8.3   586669  414.98       92.0       (8, 9]  \n",
      "279                130     7.2   591023  408.99       62.0       (7, 8]  \n",
      "35                 147     7.9   411656  408.08       75.0       (7, 8]  \n",
      "151                142     7.2   735604  408.00       68.0       (7, 8]  \n",
      "710                150     6.0   335757  402.08       35.0       (5, 6]  \n",
      "174                102     7.5   451894  400.74       74.0       (7, 8]  \n",
      "114                130     8.1   590595  380.96       87.0       (8, 9]  \n",
      "15                  87     6.6   120259  368.31       61.0       (6, 7]  \n",
      "797                 98     7.4   304837  368.05       62.0       (7, 8]  \n"
     ]
    }
   ],
   "source": [
    "sorted_Rev = df.nlargest(20, 'Rev')\n",
    "\n",
    "print(sorted_Rev)"
   ]
  },
  {
   "cell_type": "code",
   "execution_count": 98,
   "id": "aaaee1ad",
   "metadata": {},
   "outputs": [
    {
     "data": {
      "text/plain": [
       "<Axes: xlabel='Rev', ylabel='Count'>"
      ]
     },
     "execution_count": 98,
     "metadata": {},
     "output_type": "execute_result"
    },
    {
     "data": {
      "image/png": "[encoded data removed]",
      "text/plain": [
       "<Figure size 640x480 with 1 Axes>"
      ]
     },
     "metadata": {},
     "output_type": "display_data"
    }
   ],
   "source": [
    "\n",
    "sns.histplot(data=sorted_Rev, x=sorted_Rev['Rev'])"
   ]
  },
  {
   "cell_type": "markdown",
   "id": "7d8595c5",
   "metadata": {},
   "source": [
    "### 4. Find the % of movies with a higher than avergage Rating"
   ]
  },
  {
   "cell_type": "code",
   "execution_count": 78,
   "id": "66b6460d",
   "metadata": {},
   "outputs": [
    {
     "name": "stdout",
     "output_type": "stream",
     "text": [
      "6.723199999999999\n"
     ]
    }
   ],
   "source": [
    "# create a variable called mean_rating.\n",
    "# assign mean_rating the result of running ``.mean()`` on the rating column.\n",
    "mean_rating = df['Rating'].dropna().mean()\n",
    "print(mean_rating)\n"
   ]
  },
  {
   "cell_type": "code",
   "execution_count": 79,
   "id": "7454148e",
   "metadata": {},
   "outputs": [
    {
     "data": {
      "text/plain": [
       "0.513"
      ]
     },
     "execution_count": 79,
     "metadata": {},
     "output_type": "execute_result"
    }
   ],
   "source": [
    "# Find the dataset where a movie's rating is higher than mean_rating. \n",
    "# Divide that by the length of the total dataset.\n",
    "len(df[df[\"Rating\"] > mean_rating])/len(df)"
   ]
  },
  {
   "cell_type": "markdown",
   "id": "1c623861",
   "metadata": {},
   "source": [
    "### 5. Plot the rating data against genre to observe the difference in score in different movie types"
   ]
  },
  {
   "cell_type": "code",
   "execution_count": 80,
   "id": "fce70293",
   "metadata": {},
   "outputs": [
    {
     "data": {
      "text/plain": [
       "count    1000.000000\n",
       "mean        6.723200\n",
       "std         0.945429\n",
       "min         1.900000\n",
       "25%         6.200000\n",
       "50%         6.800000\n",
       "75%         7.400000\n",
       "max         9.000000\n",
       "Name: Rating, dtype: float64"
      ]
     },
     "execution_count": 80,
     "metadata": {},
     "output_type": "execute_result"
    }
   ],
   "source": [
    "# run describe on the rating column\n",
    "df['Rating'].describe()"
   ]
  },
  {
   "cell_type": "code",
   "execution_count": 106,
   "id": "212c395b",
   "metadata": {},
   "outputs": [
    {
     "data": {
      "text/plain": [
       "<Axes: xlabel='Genre', ylabel='Rating'>"
      ]
     },
     "execution_count": 106,
     "metadata": {},
     "output_type": "execute_result"
    },
    {
     "data": {
      "image/png": "[encoded data removed]",
      "text/plain": [
       "<Figure size 1200x500 with 1 Axes>"
      ]
     },
     "metadata": {},
     "output_type": "display_data"
    }
   ],
   "source": [
    "# Plot the rating data against genres\n",
    "# First, lets mirror what our reference article plots\n",
    "df[\"RatingGenres\"]=pd.cut(df.Rating, [2,4,6,8,10])\n",
    "#print(df['RatingGenres'].head(10))\n",
    "plt.figure(figsize=(12,5))\n",
    "sns.boxplot(x = \"Genre\", y = \"Rating\", data=df)"
   ]
  },
  {
   "cell_type": "code",
   "execution_count": 107,
   "id": "c77ca115",
   "metadata": {},
   "outputs": [
    {
     "data": {
      "text/plain": [
       "<Axes: xlabel='Genre', ylabel='Rating'>"
      ]
     },
     "execution_count": 107,
     "metadata": {},
     "output_type": "execute_result"
    },
    {
     "data": {
      "image/png": "[encoded data removed]",
      "text/plain": [
       "<Figure size 640x480 with 1 Axes>"
      ]
     },
     "metadata": {},
     "output_type": "display_data"
    }
   ],
   "source": [
    "sns.boxplot(x = \"Genre\", y = \"Rating\", data=df.head(20))"
   ]
  },
  {
   "cell_type": "markdown",
   "id": "ed28d392",
   "metadata": {},
   "source": [
    "That graph isn't very helpful! \n",
    "Create a new code cell below this and create the same plot, but this time for data used,\n",
    "use only the first 20 entries.\n",
    "Do you find that any easier to read and interpret?\n",
    "Next, create one more cell. Use the same axes and the top 20 items in the data, but plot using ``sns.scatterplot()``. Do you learn anything different between the boxplot and the scatterplot?"
   ]
  },
  {
   "cell_type": "markdown",
   "id": "0bb688aa",
   "metadata": {},
   "source": [
    "### 6. Make a chart to show the number of films in each rating group each year"
   ]
  },
  {
   "cell_type": "code",
   "execution_count": 192,
   "id": "50a75081",
   "metadata": {},
   "outputs": [],
   "source": [
    "# Create a new column called rating_group\n",
    "# Use to pd.cut() to bin(group) the rating_group column values by integer intervals 1-10\n"
   ]
  },
  {
   "cell_type": "code",
   "execution_count": 193,
   "id": "e21526ed",
   "metadata": {},
   "outputs": [],
   "source": [
    "# Make a chart to show the number of films in each rating group per year\n"
   ]
  },
  {
   "cell_type": "markdown",
   "id": "f083278f",
   "metadata": {},
   "source": [
    "Each year, which rating range(s) is the most concentrated? Does this match your results from the box and scatter plots above?"
   ]
  }
 ],
 "metadata": {
  "kernelspec": {
   "display_name": "Python 3 (ipykernel)",
   "language": "python",
   "name": "python3"
  },
  "language_info": {
   "codemirror_mode": {
    "name": "ipython",
    "version": 3
   },
   "file_extension": ".py",
   "mimetype": "text/x-python",
   "name": "python",
   "nbconvert_exporter": "python",
   "pygments_lexer": "ipython3",
   "version": "3.11.0"
  }
 },
 "nbformat": 4,
 "nbformat_minor": 5
}
